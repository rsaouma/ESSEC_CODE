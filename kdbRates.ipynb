{
 "cells": [
  {
   "cell_type": "code",
   "execution_count": 71,
   "metadata": {},
   "outputs": [
    {
     "data": {
      "text/plain": [
       "(135, 4)"
      ]
     },
     "execution_count": 71,
     "metadata": {},
     "output_type": "execute_result"
    }
   ],
   "source": [
    "%timeit\n",
    "%matplotlib inline\n",
    "from qPythonConnection import *\n",
    "import pandas as pd\n",
    "import numpy as np\n",
    "import scipy.stats as st\n",
    "import matplotlib.pyplot as plt\n",
    "import datetime\n",
    "\n",
    "# establish kdb/q connection \n",
    "qpc = qPythonConnection(host='uklpapeci36c.gdc.standardchartered.com', port=5022, user='Administrator',\n",
    "                             pwd='password')\n",
    "\n",
    "\n",
    "qpc.create_connection()\n",
    "\n",
    "instrument =\"\"\" \"RISK:BOND_FUTURES:INPUT.PRICE.58cf2a06-56e4-4e58-ae54-6267ec3bc421\" \"\"\"\n",
    "query = \"\"\" select from ratesPrice\n",
    "            where date=.z.d-1,\n",
    "            sym=`${}\n",
    "        \"\"\".format(instrument)\n",
    "\n",
    "qReturn = qpc.submitQuery(query, True)\n",
    "qReturn = qpc.massageQTimestampColumn(qReturn, 'time')\n",
    "test = pd.DataFrame(qReturn)\n",
    "test['time'] = pd.to_datetime(test['time'])\n",
    "test['date'] = test['time'].dt.date\n",
    "test = test.applymap(lambda x: x.decode() if isinstance(x, bytes) else x)\n",
    "                     \n",
    "test.shape\n",
    "#test.sym.unique()\n",
    "\n",
    "\n"
   ]
  },
  {
   "cell_type": "code",
   "execution_count": 72,
   "metadata": {},
   "outputs": [
    {
     "data": {
      "text/plain": [
       "(135, 4)"
      ]
     },
     "execution_count": 72,
     "metadata": {},
     "output_type": "execute_result"
    }
   ],
   "source": [
    "test.shape"
   ]
  },
  {
   "cell_type": "code",
   "execution_count": 73,
   "metadata": {
    "collapsed": true
   },
   "outputs": [],
   "source": [
    "YM = test[test['sym']=='RISK:BOND_FUTURES:INPUT.PRICE.58cf2a06-56e4-4e58-ae54-6267ec3bc421']"
   ]
  },
  {
   "cell_type": "code",
   "execution_count": 74,
   "metadata": {},
   "outputs": [
    {
     "data": {
      "text/html": [
       "<div>\n",
       "<style>\n",
       "    .dataframe thead tr:only-child th {\n",
       "        text-align: right;\n",
       "    }\n",
       "\n",
       "    .dataframe thead th {\n",
       "        text-align: left;\n",
       "    }\n",
       "\n",
       "    .dataframe tbody tr th {\n",
       "        vertical-align: top;\n",
       "    }\n",
       "</style>\n",
       "<table border=\"1\" class=\"dataframe\">\n",
       "  <thead>\n",
       "    <tr style=\"text-align: right;\">\n",
       "      <th></th>\n",
       "      <th>date</th>\n",
       "      <th>time</th>\n",
       "      <th>sym</th>\n",
       "      <th>price</th>\n",
       "    </tr>\n",
       "  </thead>\n",
       "  <tbody>\n",
       "    <tr>\n",
       "      <th>0</th>\n",
       "      <td>2019-10-23</td>\n",
       "      <td>2019-10-23 00:05:45.496706</td>\n",
       "      <td>RISK:BOND_FUTURES:INPUT.PRICE.58cf2a06-56e4-4e...</td>\n",
       "      <td>99.2475</td>\n",
       "    </tr>\n",
       "    <tr>\n",
       "      <th>1</th>\n",
       "      <td>2019-10-23</td>\n",
       "      <td>2019-10-23 00:18:45.498540</td>\n",
       "      <td>RISK:BOND_FUTURES:INPUT.PRICE.58cf2a06-56e4-4e...</td>\n",
       "      <td>99.2525</td>\n",
       "    </tr>\n",
       "    <tr>\n",
       "      <th>2</th>\n",
       "      <td>2019-10-23</td>\n",
       "      <td>2019-10-23 00:30:45.500359</td>\n",
       "      <td>RISK:BOND_FUTURES:INPUT.PRICE.58cf2a06-56e4-4e...</td>\n",
       "      <td>99.2475</td>\n",
       "    </tr>\n",
       "    <tr>\n",
       "      <th>3</th>\n",
       "      <td>2019-10-23</td>\n",
       "      <td>2019-10-23 00:32:45.500567</td>\n",
       "      <td>RISK:BOND_FUTURES:INPUT.PRICE.58cf2a06-56e4-4e...</td>\n",
       "      <td>99.2500</td>\n",
       "    </tr>\n",
       "    <tr>\n",
       "      <th>4</th>\n",
       "      <td>2019-10-23</td>\n",
       "      <td>2019-10-23 00:32:45.500567</td>\n",
       "      <td>RISK:BOND_FUTURES:INPUT.PRICE.58cf2a06-56e4-4e...</td>\n",
       "      <td>99.2525</td>\n",
       "    </tr>\n",
       "  </tbody>\n",
       "</table>\n",
       "</div>"
      ],
      "text/plain": [
       "         date                       time  \\\n",
       "0  2019-10-23 2019-10-23 00:05:45.496706   \n",
       "1  2019-10-23 2019-10-23 00:18:45.498540   \n",
       "2  2019-10-23 2019-10-23 00:30:45.500359   \n",
       "3  2019-10-23 2019-10-23 00:32:45.500567   \n",
       "4  2019-10-23 2019-10-23 00:32:45.500567   \n",
       "\n",
       "                                                 sym    price  \n",
       "0  RISK:BOND_FUTURES:INPUT.PRICE.58cf2a06-56e4-4e...  99.2475  \n",
       "1  RISK:BOND_FUTURES:INPUT.PRICE.58cf2a06-56e4-4e...  99.2525  \n",
       "2  RISK:BOND_FUTURES:INPUT.PRICE.58cf2a06-56e4-4e...  99.2475  \n",
       "3  RISK:BOND_FUTURES:INPUT.PRICE.58cf2a06-56e4-4e...  99.2500  \n",
       "4  RISK:BOND_FUTURES:INPUT.PRICE.58cf2a06-56e4-4e...  99.2525  "
      ]
     },
     "execution_count": 74,
     "metadata": {},
     "output_type": "execute_result"
    }
   ],
   "source": [
    "YM.head()"
   ]
  },
  {
   "cell_type": "code",
   "execution_count": 75,
   "metadata": {},
   "outputs": [
    {
     "data": {
      "text/plain": [
       "(135, 4)"
      ]
     },
     "execution_count": 75,
     "metadata": {},
     "output_type": "execute_result"
    }
   ],
   "source": [
    "YM.shape"
   ]
  },
  {
   "cell_type": "code",
   "execution_count": 76,
   "metadata": {},
   "outputs": [
    {
     "data": {
      "text/plain": [
       "date                                            2019-10-23\n",
       "time                            2019-10-23 23:34:15.698747\n",
       "sym      RISK:BOND_FUTURES:INPUT.PRICE.58cf2a06-56e4-4e...\n",
       "price                                              99.2725\n",
       "Name: 134, dtype: object"
      ]
     },
     "execution_count": 76,
     "metadata": {},
     "output_type": "execute_result"
    }
   ],
   "source": [
    "YM.iloc[-1]"
   ]
  },
  {
   "cell_type": "code",
   "execution_count": 77,
   "metadata": {},
   "outputs": [
    {
     "data": {
      "text/plain": [
       "numpy.float64"
      ]
     },
     "execution_count": 77,
     "metadata": {},
     "output_type": "execute_result"
    }
   ],
   "source": [
    "type(YM.iloc[1]['price'])"
   ]
  },
  {
   "cell_type": "code",
   "execution_count": 78,
   "metadata": {
    "collapsed": true
   },
   "outputs": [],
   "source": [
    "YM = YM.sort_values('time')"
   ]
  },
  {
   "cell_type": "code",
   "execution_count": 79,
   "metadata": {},
   "outputs": [
    {
     "data": {
      "text/plain": [
       "date                                            2019-10-23\n",
       "time                            2019-10-23 00:18:45.498540\n",
       "sym      RISK:BOND_FUTURES:INPUT.PRICE.58cf2a06-56e4-4e...\n",
       "price                                              99.2525\n",
       "Name: 1, dtype: object"
      ]
     },
     "execution_count": 79,
     "metadata": {},
     "output_type": "execute_result"
    }
   ],
   "source": [
    "YM.iloc[1]"
   ]
  },
  {
   "cell_type": "code",
   "execution_count": 80,
   "metadata": {},
   "outputs": [
    {
     "data": {
      "text/plain": [
       "date                                            2019-10-23\n",
       "time                            2019-10-23 23:34:15.698747\n",
       "sym      RISK:BOND_FUTURES:INPUT.PRICE.58cf2a06-56e4-4e...\n",
       "price                                              99.2725\n",
       "Name: 134, dtype: object"
      ]
     },
     "execution_count": 80,
     "metadata": {},
     "output_type": "execute_result"
    }
   ],
   "source": [
    "YM.iloc[-1]"
   ]
  },
  {
   "cell_type": "code",
   "execution_count": 81,
   "metadata": {},
   "outputs": [
    {
     "data": {
      "text/html": [
       "<div>\n",
       "<style>\n",
       "    .dataframe thead tr:only-child th {\n",
       "        text-align: right;\n",
       "    }\n",
       "\n",
       "    .dataframe thead th {\n",
       "        text-align: left;\n",
       "    }\n",
       "\n",
       "    .dataframe tbody tr th {\n",
       "        vertical-align: top;\n",
       "    }\n",
       "</style>\n",
       "<table border=\"1\" class=\"dataframe\">\n",
       "  <thead>\n",
       "    <tr style=\"text-align: right;\">\n",
       "      <th></th>\n",
       "      <th>price</th>\n",
       "    </tr>\n",
       "  </thead>\n",
       "  <tbody>\n",
       "    <tr>\n",
       "      <th>count</th>\n",
       "      <td>135.000000</td>\n",
       "    </tr>\n",
       "    <tr>\n",
       "      <th>mean</th>\n",
       "      <td>99.262259</td>\n",
       "    </tr>\n",
       "    <tr>\n",
       "      <th>std</th>\n",
       "      <td>0.017207</td>\n",
       "    </tr>\n",
       "    <tr>\n",
       "      <th>min</th>\n",
       "      <td>99.160000</td>\n",
       "    </tr>\n",
       "    <tr>\n",
       "      <th>25%</th>\n",
       "      <td>99.257500</td>\n",
       "    </tr>\n",
       "    <tr>\n",
       "      <th>50%</th>\n",
       "      <td>99.265000</td>\n",
       "    </tr>\n",
       "    <tr>\n",
       "      <th>75%</th>\n",
       "      <td>99.272500</td>\n",
       "    </tr>\n",
       "    <tr>\n",
       "      <th>max</th>\n",
       "      <td>99.285000</td>\n",
       "    </tr>\n",
       "  </tbody>\n",
       "</table>\n",
       "</div>"
      ],
      "text/plain": [
       "            price\n",
       "count  135.000000\n",
       "mean    99.262259\n",
       "std      0.017207\n",
       "min     99.160000\n",
       "25%     99.257500\n",
       "50%     99.265000\n",
       "75%     99.272500\n",
       "max     99.285000"
      ]
     },
     "execution_count": 81,
     "metadata": {},
     "output_type": "execute_result"
    }
   ],
   "source": [
    "YM.describe()"
   ]
  },
  {
   "cell_type": "code",
   "execution_count": 82,
   "metadata": {
    "collapsed": true
   },
   "outputs": [],
   "source": [
    "minYM = YM[YM['price']<=99.19999]"
   ]
  },
  {
   "cell_type": "code",
   "execution_count": null,
   "metadata": {
    "collapsed": true
   },
   "outputs": [],
   "source": []
  },
  {
   "cell_type": "code",
   "execution_count": null,
   "metadata": {
    "collapsed": true
   },
   "outputs": [],
   "source": []
  }
 ],
 "metadata": {
  "kernelspec": {
   "display_name": "Python 3",
   "language": "python",
   "name": "python3"
  },
  "language_info": {
   "codemirror_mode": {
    "name": "ipython",
    "version": 3
   },
   "file_extension": ".py",
   "mimetype": "text/x-python",
   "name": "python",
   "nbconvert_exporter": "python",
   "pygments_lexer": "ipython3",
   "version": "3.6.1"
  }
 },
 "nbformat": 4,
 "nbformat_minor": 2
}
