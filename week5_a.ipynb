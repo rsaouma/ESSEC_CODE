{
 "cells": [
  {
   "cell_type": "markdown",
   "metadata": {},
   "source": [
    "# Plotting and Visualization"
   ]
  },
  {
   "cell_type": "code",
   "execution_count": 17,
   "metadata": {},
   "outputs": [],
   "source": [
    "import numpy as np\n",
    "import pandas as pd\n",
    "PREVIOUS_MAX_ROWS = pd.options.display.max_rows\n",
    "pd.options.display.max_rows = 20\n",
    "np.random.seed(12345)\n",
    "import matplotlib.pyplot as plt\n",
    "plt.rc('figure', figsize=(10, 6))\n",
    "np.set_printoptions(precision=4, suppress=True)"
   ]
  },
  {
   "cell_type": "markdown",
   "metadata": {},
   "source": [
    "## A Brief matplotlib API Primer"
   ]
  },
  {
   "cell_type": "markdown",
   "metadata": {},
   "source": [
    "Up till now we have been learning to work with data that is represented as tables. Whether it is a spreadsheet, a DataFrame or a CSV file all those datasets developed around a table representation. Because a table neatly organizes values into rows and columns, we can easily look up specific values at the intersection of a row value and a column value. This structure is handy and efficient to work with data but as the data gets bigger it is hard to grasp it's content, patterns and meaning unless we opt for a different representation such as visulisation.\n",
    "\n",
    "This week, we'll learn the basics of data visualization, a discipline that focuses on the visual representation of data. As humans, our brains have evolved to develop powerful visual processing capabilities. We can quickly find patterns in the visual information we encounter, which was incredibly important from a survivability standpoint. Unfortunately, when data is represented as tables of values, we can't really take advantage of our visual pattern matching capabilities. This is because our ability to quickly process symbolic values (like numbers and words) is very poor. Data visualization focuses on transforming data from table representations to visual ones.\n",
    "\n"
   ]
  },
  {
   "cell_type": "markdown",
   "metadata": {},
   "source": [
    "Over time, __matplotlib__ has produced a number of add-on toolkits for data visualisation that uses the main matplotlib package for their underlying plotting. By the end of today's lesson, if we are left with time, we will cover one of those add-on packages known as __seaborn__. "
   ]
  },
  {
   "cell_type": "markdown",
   "metadata": {},
   "source": [
    "__matplotlib__ is a huge and fairly complex package. There is not enough time during this course to give a comprehensive treatement to the breadth and depth of its functionality. It is just enough to get started. For in depth understanding refer to the online documentation."
   ]
  },
  {
   "cell_type": "code",
   "execution_count": 21,
   "metadata": {},
   "outputs": [],
   "source": [
    "import matplotlib.pyplot as  plt \n",
    "import numpy as np"
   ]
  },
  {
   "cell_type": "markdown",
   "metadata": {},
   "source": [
    "The following line is only required in Jupyter note book to get the interactive plotting working"
   ]
  },
  {
   "cell_type": "code",
   "execution_count": 22,
   "metadata": {},
   "outputs": [],
   "source": [
    "%matplotlib notebook"
   ]
  },
  {
   "cell_type": "code",
   "execution_count": 23,
   "metadata": {},
   "outputs": [
    {
     "data": {
      "text/plain": [
       "array([0, 1, 2, 3, 4, 5, 6, 7, 8, 9])"
      ]
     },
     "execution_count": 23,
     "metadata": {},
     "output_type": "execute_result"
    }
   ],
   "source": [
    "\n",
    "data = np.arange(10)\n",
    "data\n"
   ]
  },
  {
   "cell_type": "code",
   "execution_count": 24,
   "metadata": {},
   "outputs": [
    {
     "data": {
      "application/javascript": [
       "/* Put everything inside the global mpl namespace */\n",
       "window.mpl = {};\n",
       "\n",
       "\n",
       "mpl.get_websocket_type = function() {\n",
       "    if (typeof(WebSocket) !== 'undefined') {\n",
       "        return WebSocket;\n",
       "    } else if (typeof(MozWebSocket) !== 'undefined') {\n",
       "        return MozWebSocket;\n",
       "    } else {\n",
       "        alert('Your browser does not have WebSocket support.' +\n",
       "              'Please try Chrome, Safari or Firefox ≥ 6. ' +\n",
       "              'Firefox 4 and 5 are also supported but you ' +\n",
       "              'have to enable WebSockets in about:config.');\n",
       "    };\n",
       "}\n",
       "\n",
       "mpl.figure = function(figure_id, websocket, ondownload, parent_element) {\n",
       "    this.id = figure_id;\n",
       "\n",
       "    this.ws = websocket;\n",
       "\n",
       "    this.supports_binary = (this.ws.binaryType != undefined);\n",
       "\n",
       "    if (!this.supports_binary) {\n",
       "        var warnings = document.getElementById(\"mpl-warnings\");\n",
       "        if (warnings) {\n",
       "            warnings.style.display = 'block';\n",
       "            warnings.textContent = (\n",
       "                \"This browser does not support binary websocket messages. \" +\n",
       "                    \"Performance may be slow.\");\n",
       "        }\n",
       "    }\n",
       "\n",
       "    this.imageObj = new Image();\n",
       "\n",
       "    this.context = undefined;\n",
       "    this.message = undefined;\n",
       "    this.canvas = undefined;\n",
       "    this.rubberband_canvas = undefined;\n",
       "    this.rubberband_context = undefined;\n",
       "    this.format_dropdown = undefined;\n",
       "\n",
       "    this.image_mode = 'full';\n",
       "\n",
       "    this.root = $('<div/>');\n",
       "    this._root_extra_style(this.root)\n",
       "    this.root.attr('style', 'display: inline-block');\n",
       "\n",
       "    $(parent_element).append(this.root);\n",
       "\n",
       "    this._init_header(this);\n",
       "    this._init_canvas(this);\n",
       "    this._init_toolbar(this);\n",
       "\n",
       "    var fig = this;\n",
       "\n",
       "    this.waiting = false;\n",
       "\n",
       "    this.ws.onopen =  function () {\n",
       "            fig.send_message(\"supports_binary\", {value: fig.supports_binary});\n",
       "            fig.send_message(\"send_image_mode\", {});\n",
       "            if (mpl.ratio != 1) {\n",
       "                fig.send_message(\"set_dpi_ratio\", {'dpi_ratio': mpl.ratio});\n",
       "            }\n",
       "            fig.send_message(\"refresh\", {});\n",
       "        }\n",
       "\n",
       "    this.imageObj.onload = function() {\n",
       "            if (fig.image_mode == 'full') {\n",
       "                // Full images could contain transparency (where diff images\n",
       "                // almost always do), so we need to clear the canvas so that\n",
       "                // there is no ghosting.\n",
       "                fig.context.clearRect(0, 0, fig.canvas.width, fig.canvas.height);\n",
       "            }\n",
       "            fig.context.drawImage(fig.imageObj, 0, 0);\n",
       "        };\n",
       "\n",
       "    this.imageObj.onunload = function() {\n",
       "        fig.ws.close();\n",
       "    }\n",
       "\n",
       "    this.ws.onmessage = this._make_on_message_function(this);\n",
       "\n",
       "    this.ondownload = ondownload;\n",
       "}\n",
       "\n",
       "mpl.figure.prototype._init_header = function() {\n",
       "    var titlebar = $(\n",
       "        '<div class=\"ui-dialog-titlebar ui-widget-header ui-corner-all ' +\n",
       "        'ui-helper-clearfix\"/>');\n",
       "    var titletext = $(\n",
       "        '<div class=\"ui-dialog-title\" style=\"width: 100%; ' +\n",
       "        'text-align: center; padding: 3px;\"/>');\n",
       "    titlebar.append(titletext)\n",
       "    this.root.append(titlebar);\n",
       "    this.header = titletext[0];\n",
       "}\n",
       "\n",
       "\n",
       "\n",
       "mpl.figure.prototype._canvas_extra_style = function(canvas_div) {\n",
       "\n",
       "}\n",
       "\n",
       "\n",
       "mpl.figure.prototype._root_extra_style = function(canvas_div) {\n",
       "\n",
       "}\n",
       "\n",
       "mpl.figure.prototype._init_canvas = function() {\n",
       "    var fig = this;\n",
       "\n",
       "    var canvas_div = $('<div/>');\n",
       "\n",
       "    canvas_div.attr('style', 'position: relative; clear: both; outline: 0');\n",
       "\n",
       "    function canvas_keyboard_event(event) {\n",
       "        return fig.key_event(event, event['data']);\n",
       "    }\n",
       "\n",
       "    canvas_div.keydown('key_press', canvas_keyboard_event);\n",
       "    canvas_div.keyup('key_release', canvas_keyboard_event);\n",
       "    this.canvas_div = canvas_div\n",
       "    this._canvas_extra_style(canvas_div)\n",
       "    this.root.append(canvas_div);\n",
       "\n",
       "    var canvas = $('<canvas/>');\n",
       "    canvas.addClass('mpl-canvas');\n",
       "    canvas.attr('style', \"left: 0; top: 0; z-index: 0; outline: 0\")\n",
       "\n",
       "    this.canvas = canvas[0];\n",
       "    this.context = canvas[0].getContext(\"2d\");\n",
       "\n",
       "    var backingStore = this.context.backingStorePixelRatio ||\n",
       "\tthis.context.webkitBackingStorePixelRatio ||\n",
       "\tthis.context.mozBackingStorePixelRatio ||\n",
       "\tthis.context.msBackingStorePixelRatio ||\n",
       "\tthis.context.oBackingStorePixelRatio ||\n",
       "\tthis.context.backingStorePixelRatio || 1;\n",
       "\n",
       "    mpl.ratio = (window.devicePixelRatio || 1) / backingStore;\n",
       "\n",
       "    var rubberband = $('<canvas/>');\n",
       "    rubberband.attr('style', \"position: absolute; left: 0; top: 0; z-index: 1;\")\n",
       "\n",
       "    var pass_mouse_events = true;\n",
       "\n",
       "    canvas_div.resizable({\n",
       "        start: function(event, ui) {\n",
       "            pass_mouse_events = false;\n",
       "        },\n",
       "        resize: function(event, ui) {\n",
       "            fig.request_resize(ui.size.width, ui.size.height);\n",
       "        },\n",
       "        stop: function(event, ui) {\n",
       "            pass_mouse_events = true;\n",
       "            fig.request_resize(ui.size.width, ui.size.height);\n",
       "        },\n",
       "    });\n",
       "\n",
       "    function mouse_event_fn(event) {\n",
       "        if (pass_mouse_events)\n",
       "            return fig.mouse_event(event, event['data']);\n",
       "    }\n",
       "\n",
       "    rubberband.mousedown('button_press', mouse_event_fn);\n",
       "    rubberband.mouseup('button_release', mouse_event_fn);\n",
       "    // Throttle sequential mouse events to 1 every 20ms.\n",
       "    rubberband.mousemove('motion_notify', mouse_event_fn);\n",
       "\n",
       "    rubberband.mouseenter('figure_enter', mouse_event_fn);\n",
       "    rubberband.mouseleave('figure_leave', mouse_event_fn);\n",
       "\n",
       "    canvas_div.on(\"wheel\", function (event) {\n",
       "        event = event.originalEvent;\n",
       "        event['data'] = 'scroll'\n",
       "        if (event.deltaY < 0) {\n",
       "            event.step = 1;\n",
       "        } else {\n",
       "            event.step = -1;\n",
       "        }\n",
       "        mouse_event_fn(event);\n",
       "    });\n",
       "\n",
       "    canvas_div.append(canvas);\n",
       "    canvas_div.append(rubberband);\n",
       "\n",
       "    this.rubberband = rubberband;\n",
       "    this.rubberband_canvas = rubberband[0];\n",
       "    this.rubberband_context = rubberband[0].getContext(\"2d\");\n",
       "    this.rubberband_context.strokeStyle = \"#000000\";\n",
       "\n",
       "    this._resize_canvas = function(width, height) {\n",
       "        // Keep the size of the canvas, canvas container, and rubber band\n",
       "        // canvas in synch.\n",
       "        canvas_div.css('width', width)\n",
       "        canvas_div.css('height', height)\n",
       "\n",
       "        canvas.attr('width', width * mpl.ratio);\n",
       "        canvas.attr('height', height * mpl.ratio);\n",
       "        canvas.attr('style', 'width: ' + width + 'px; height: ' + height + 'px;');\n",
       "\n",
       "        rubberband.attr('width', width);\n",
       "        rubberband.attr('height', height);\n",
       "    }\n",
       "\n",
       "    // Set the figure to an initial 600x600px, this will subsequently be updated\n",
       "    // upon first draw.\n",
       "    this._resize_canvas(600, 600);\n",
       "\n",
       "    // Disable right mouse context menu.\n",
       "    $(this.rubberband_canvas).bind(\"contextmenu\",function(e){\n",
       "        return false;\n",
       "    });\n",
       "\n",
       "    function set_focus () {\n",
       "        canvas.focus();\n",
       "        canvas_div.focus();\n",
       "    }\n",
       "\n",
       "    window.setTimeout(set_focus, 100);\n",
       "}\n",
       "\n",
       "mpl.figure.prototype._init_toolbar = function() {\n",
       "    var fig = this;\n",
       "\n",
       "    var nav_element = $('<div/>')\n",
       "    nav_element.attr('style', 'width: 100%');\n",
       "    this.root.append(nav_element);\n",
       "\n",
       "    // Define a callback function for later on.\n",
       "    function toolbar_event(event) {\n",
       "        return fig.toolbar_button_onclick(event['data']);\n",
       "    }\n",
       "    function toolbar_mouse_event(event) {\n",
       "        return fig.toolbar_button_onmouseover(event['data']);\n",
       "    }\n",
       "\n",
       "    for(var toolbar_ind in mpl.toolbar_items) {\n",
       "        var name = mpl.toolbar_items[toolbar_ind][0];\n",
       "        var tooltip = mpl.toolbar_items[toolbar_ind][1];\n",
       "        var image = mpl.toolbar_items[toolbar_ind][2];\n",
       "        var method_name = mpl.toolbar_items[toolbar_ind][3];\n",
       "\n",
       "        if (!name) {\n",
       "            // put a spacer in here.\n",
       "            continue;\n",
       "        }\n",
       "        var button = $('<button/>');\n",
       "        button.addClass('ui-button ui-widget ui-state-default ui-corner-all ' +\n",
       "                        'ui-button-icon-only');\n",
       "        button.attr('role', 'button');\n",
       "        button.attr('aria-disabled', 'false');\n",
       "        button.click(method_name, toolbar_event);\n",
       "        button.mouseover(tooltip, toolbar_mouse_event);\n",
       "\n",
       "        var icon_img = $('<span/>');\n",
       "        icon_img.addClass('ui-button-icon-primary ui-icon');\n",
       "        icon_img.addClass(image);\n",
       "        icon_img.addClass('ui-corner-all');\n",
       "\n",
       "        var tooltip_span = $('<span/>');\n",
       "        tooltip_span.addClass('ui-button-text');\n",
       "        tooltip_span.html(tooltip);\n",
       "\n",
       "        button.append(icon_img);\n",
       "        button.append(tooltip_span);\n",
       "\n",
       "        nav_element.append(button);\n",
       "    }\n",
       "\n",
       "    var fmt_picker_span = $('<span/>');\n",
       "\n",
       "    var fmt_picker = $('<select/>');\n",
       "    fmt_picker.addClass('mpl-toolbar-option ui-widget ui-widget-content');\n",
       "    fmt_picker_span.append(fmt_picker);\n",
       "    nav_element.append(fmt_picker_span);\n",
       "    this.format_dropdown = fmt_picker[0];\n",
       "\n",
       "    for (var ind in mpl.extensions) {\n",
       "        var fmt = mpl.extensions[ind];\n",
       "        var option = $(\n",
       "            '<option/>', {selected: fmt === mpl.default_extension}).html(fmt);\n",
       "        fmt_picker.append(option)\n",
       "    }\n",
       "\n",
       "    // Add hover states to the ui-buttons\n",
       "    $( \".ui-button\" ).hover(\n",
       "        function() { $(this).addClass(\"ui-state-hover\");},\n",
       "        function() { $(this).removeClass(\"ui-state-hover\");}\n",
       "    );\n",
       "\n",
       "    var status_bar = $('<span class=\"mpl-message\"/>');\n",
       "    nav_element.append(status_bar);\n",
       "    this.message = status_bar[0];\n",
       "}\n",
       "\n",
       "mpl.figure.prototype.request_resize = function(x_pixels, y_pixels) {\n",
       "    // Request matplotlib to resize the figure. Matplotlib will then trigger a resize in the client,\n",
       "    // which will in turn request a refresh of the image.\n",
       "    this.send_message('resize', {'width': x_pixels, 'height': y_pixels});\n",
       "}\n",
       "\n",
       "mpl.figure.prototype.send_message = function(type, properties) {\n",
       "    properties['type'] = type;\n",
       "    properties['figure_id'] = this.id;\n",
       "    this.ws.send(JSON.stringify(properties));\n",
       "}\n",
       "\n",
       "mpl.figure.prototype.send_draw_message = function() {\n",
       "    if (!this.waiting) {\n",
       "        this.waiting = true;\n",
       "        this.ws.send(JSON.stringify({type: \"draw\", figure_id: this.id}));\n",
       "    }\n",
       "}\n",
       "\n",
       "\n",
       "mpl.figure.prototype.handle_save = function(fig, msg) {\n",
       "    var format_dropdown = fig.format_dropdown;\n",
       "    var format = format_dropdown.options[format_dropdown.selectedIndex].value;\n",
       "    fig.ondownload(fig, format);\n",
       "}\n",
       "\n",
       "\n",
       "mpl.figure.prototype.handle_resize = function(fig, msg) {\n",
       "    var size = msg['size'];\n",
       "    if (size[0] != fig.canvas.width || size[1] != fig.canvas.height) {\n",
       "        fig._resize_canvas(size[0], size[1]);\n",
       "        fig.send_message(\"refresh\", {});\n",
       "    };\n",
       "}\n",
       "\n",
       "mpl.figure.prototype.handle_rubberband = function(fig, msg) {\n",
       "    var x0 = msg['x0'] / mpl.ratio;\n",
       "    var y0 = (fig.canvas.height - msg['y0']) / mpl.ratio;\n",
       "    var x1 = msg['x1'] / mpl.ratio;\n",
       "    var y1 = (fig.canvas.height - msg['y1']) / mpl.ratio;\n",
       "    x0 = Math.floor(x0) + 0.5;\n",
       "    y0 = Math.floor(y0) + 0.5;\n",
       "    x1 = Math.floor(x1) + 0.5;\n",
       "    y1 = Math.floor(y1) + 0.5;\n",
       "    var min_x = Math.min(x0, x1);\n",
       "    var min_y = Math.min(y0, y1);\n",
       "    var width = Math.abs(x1 - x0);\n",
       "    var height = Math.abs(y1 - y0);\n",
       "\n",
       "    fig.rubberband_context.clearRect(\n",
       "        0, 0, fig.canvas.width, fig.canvas.height);\n",
       "\n",
       "    fig.rubberband_context.strokeRect(min_x, min_y, width, height);\n",
       "}\n",
       "\n",
       "mpl.figure.prototype.handle_figure_label = function(fig, msg) {\n",
       "    // Updates the figure title.\n",
       "    fig.header.textContent = msg['label'];\n",
       "}\n",
       "\n",
       "mpl.figure.prototype.handle_cursor = function(fig, msg) {\n",
       "    var cursor = msg['cursor'];\n",
       "    switch(cursor)\n",
       "    {\n",
       "    case 0:\n",
       "        cursor = 'pointer';\n",
       "        break;\n",
       "    case 1:\n",
       "        cursor = 'default';\n",
       "        break;\n",
       "    case 2:\n",
       "        cursor = 'crosshair';\n",
       "        break;\n",
       "    case 3:\n",
       "        cursor = 'move';\n",
       "        break;\n",
       "    }\n",
       "    fig.rubberband_canvas.style.cursor = cursor;\n",
       "}\n",
       "\n",
       "mpl.figure.prototype.handle_message = function(fig, msg) {\n",
       "    fig.message.textContent = msg['message'];\n",
       "}\n",
       "\n",
       "mpl.figure.prototype.handle_draw = function(fig, msg) {\n",
       "    // Request the server to send over a new figure.\n",
       "    fig.send_draw_message();\n",
       "}\n",
       "\n",
       "mpl.figure.prototype.handle_image_mode = function(fig, msg) {\n",
       "    fig.image_mode = msg['mode'];\n",
       "}\n",
       "\n",
       "mpl.figure.prototype.updated_canvas_event = function() {\n",
       "    // Called whenever the canvas gets updated.\n",
       "    this.send_message(\"ack\", {});\n",
       "}\n",
       "\n",
       "// A function to construct a web socket function for onmessage handling.\n",
       "// Called in the figure constructor.\n",
       "mpl.figure.prototype._make_on_message_function = function(fig) {\n",
       "    return function socket_on_message(evt) {\n",
       "        if (evt.data instanceof Blob) {\n",
       "            /* FIXME: We get \"Resource interpreted as Image but\n",
       "             * transferred with MIME type text/plain:\" errors on\n",
       "             * Chrome.  But how to set the MIME type?  It doesn't seem\n",
       "             * to be part of the websocket stream */\n",
       "            evt.data.type = \"image/png\";\n",
       "\n",
       "            /* Free the memory for the previous frames */\n",
       "            if (fig.imageObj.src) {\n",
       "                (window.URL || window.webkitURL).revokeObjectURL(\n",
       "                    fig.imageObj.src);\n",
       "            }\n",
       "\n",
       "            fig.imageObj.src = (window.URL || window.webkitURL).createObjectURL(\n",
       "                evt.data);\n",
       "            fig.updated_canvas_event();\n",
       "            fig.waiting = false;\n",
       "            return;\n",
       "        }\n",
       "        else if (typeof evt.data === 'string' && evt.data.slice(0, 21) == \"data:image/png;base64\") {\n",
       "            fig.imageObj.src = evt.data;\n",
       "            fig.updated_canvas_event();\n",
       "            fig.waiting = false;\n",
       "            return;\n",
       "        }\n",
       "\n",
       "        var msg = JSON.parse(evt.data);\n",
       "        var msg_type = msg['type'];\n",
       "\n",
       "        // Call the  \"handle_{type}\" callback, which takes\n",
       "        // the figure and JSON message as its only arguments.\n",
       "        try {\n",
       "            var callback = fig[\"handle_\" + msg_type];\n",
       "        } catch (e) {\n",
       "            console.log(\"No handler for the '\" + msg_type + \"' message type: \", msg);\n",
       "            return;\n",
       "        }\n",
       "\n",
       "        if (callback) {\n",
       "            try {\n",
       "                // console.log(\"Handling '\" + msg_type + \"' message: \", msg);\n",
       "                callback(fig, msg);\n",
       "            } catch (e) {\n",
       "                console.log(\"Exception inside the 'handler_\" + msg_type + \"' callback:\", e, e.stack, msg);\n",
       "            }\n",
       "        }\n",
       "    };\n",
       "}\n",
       "\n",
       "// from http://stackoverflow.com/questions/1114465/getting-mouse-location-in-canvas\n",
       "mpl.findpos = function(e) {\n",
       "    //this section is from http://www.quirksmode.org/js/events_properties.html\n",
       "    var targ;\n",
       "    if (!e)\n",
       "        e = window.event;\n",
       "    if (e.target)\n",
       "        targ = e.target;\n",
       "    else if (e.srcElement)\n",
       "        targ = e.srcElement;\n",
       "    if (targ.nodeType == 3) // defeat Safari bug\n",
       "        targ = targ.parentNode;\n",
       "\n",
       "    // jQuery normalizes the pageX and pageY\n",
       "    // pageX,Y are the mouse positions relative to the document\n",
       "    // offset() returns the position of the element relative to the document\n",
       "    var x = e.pageX - $(targ).offset().left;\n",
       "    var y = e.pageY - $(targ).offset().top;\n",
       "\n",
       "    return {\"x\": x, \"y\": y};\n",
       "};\n",
       "\n",
       "/*\n",
       " * return a copy of an object with only non-object keys\n",
       " * we need this to avoid circular references\n",
       " * http://stackoverflow.com/a/24161582/3208463\n",
       " */\n",
       "function simpleKeys (original) {\n",
       "  return Object.keys(original).reduce(function (obj, key) {\n",
       "    if (typeof original[key] !== 'object')\n",
       "        obj[key] = original[key]\n",
       "    return obj;\n",
       "  }, {});\n",
       "}\n",
       "\n",
       "mpl.figure.prototype.mouse_event = function(event, name) {\n",
       "    var canvas_pos = mpl.findpos(event)\n",
       "\n",
       "    if (name === 'button_press')\n",
       "    {\n",
       "        this.canvas.focus();\n",
       "        this.canvas_div.focus();\n",
       "    }\n",
       "\n",
       "    var x = canvas_pos.x * mpl.ratio;\n",
       "    var y = canvas_pos.y * mpl.ratio;\n",
       "\n",
       "    this.send_message(name, {x: x, y: y, button: event.button,\n",
       "                             step: event.step,\n",
       "                             guiEvent: simpleKeys(event)});\n",
       "\n",
       "    /* This prevents the web browser from automatically changing to\n",
       "     * the text insertion cursor when the button is pressed.  We want\n",
       "     * to control all of the cursor setting manually through the\n",
       "     * 'cursor' event from matplotlib */\n",
       "    event.preventDefault();\n",
       "    return false;\n",
       "}\n",
       "\n",
       "mpl.figure.prototype._key_event_extra = function(event, name) {\n",
       "    // Handle any extra behaviour associated with a key event\n",
       "}\n",
       "\n",
       "mpl.figure.prototype.key_event = function(event, name) {\n",
       "\n",
       "    // Prevent repeat events\n",
       "    if (name == 'key_press')\n",
       "    {\n",
       "        if (event.which === this._key)\n",
       "            return;\n",
       "        else\n",
       "            this._key = event.which;\n",
       "    }\n",
       "    if (name == 'key_release')\n",
       "        this._key = null;\n",
       "\n",
       "    var value = '';\n",
       "    if (event.ctrlKey && event.which != 17)\n",
       "        value += \"ctrl+\";\n",
       "    if (event.altKey && event.which != 18)\n",
       "        value += \"alt+\";\n",
       "    if (event.shiftKey && event.which != 16)\n",
       "        value += \"shift+\";\n",
       "\n",
       "    value += 'k';\n",
       "    value += event.which.toString();\n",
       "\n",
       "    this._key_event_extra(event, name);\n",
       "\n",
       "    this.send_message(name, {key: value,\n",
       "                             guiEvent: simpleKeys(event)});\n",
       "    return false;\n",
       "}\n",
       "\n",
       "mpl.figure.prototype.toolbar_button_onclick = function(name) {\n",
       "    if (name == 'download') {\n",
       "        this.handle_save(this, null);\n",
       "    } else {\n",
       "        this.send_message(\"toolbar_button\", {name: name});\n",
       "    }\n",
       "};\n",
       "\n",
       "mpl.figure.prototype.toolbar_button_onmouseover = function(tooltip) {\n",
       "    this.message.textContent = tooltip;\n",
       "};\n",
       "mpl.toolbar_items = [[\"Home\", \"Reset original view\", \"fa fa-home icon-home\", \"home\"], [\"Back\", \"Back to previous view\", \"fa fa-arrow-left icon-arrow-left\", \"back\"], [\"Forward\", \"Forward to next view\", \"fa fa-arrow-right icon-arrow-right\", \"forward\"], [\"\", \"\", \"\", \"\"], [\"Pan\", \"Pan axes with left mouse, zoom with right\", \"fa fa-arrows icon-move\", \"pan\"], [\"Zoom\", \"Zoom to rectangle\", \"fa fa-square-o icon-check-empty\", \"zoom\"], [\"\", \"\", \"\", \"\"], [\"Download\", \"Download plot\", \"fa fa-floppy-o icon-save\", \"download\"]];\n",
       "\n",
       "mpl.extensions = [\"eps\", \"jpeg\", \"pdf\", \"png\", \"ps\", \"raw\", \"svg\", \"tif\"];\n",
       "\n",
       "mpl.default_extension = \"png\";var comm_websocket_adapter = function(comm) {\n",
       "    // Create a \"websocket\"-like object which calls the given IPython comm\n",
       "    // object with the appropriate methods. Currently this is a non binary\n",
       "    // socket, so there is still some room for performance tuning.\n",
       "    var ws = {};\n",
       "\n",
       "    ws.close = function() {\n",
       "        comm.close()\n",
       "    };\n",
       "    ws.send = function(m) {\n",
       "        //console.log('sending', m);\n",
       "        comm.send(m);\n",
       "    };\n",
       "    // Register the callback with on_msg.\n",
       "    comm.on_msg(function(msg) {\n",
       "        //console.log('receiving', msg['content']['data'], msg);\n",
       "        // Pass the mpl event to the overridden (by mpl) onmessage function.\n",
       "        ws.onmessage(msg['content']['data'])\n",
       "    });\n",
       "    return ws;\n",
       "}\n",
       "\n",
       "mpl.mpl_figure_comm = function(comm, msg) {\n",
       "    // This is the function which gets called when the mpl process\n",
       "    // starts-up an IPython Comm through the \"matplotlib\" channel.\n",
       "\n",
       "    var id = msg.content.data.id;\n",
       "    // Get hold of the div created by the display call when the Comm\n",
       "    // socket was opened in Python.\n",
       "    var element = $(\"#\" + id);\n",
       "    var ws_proxy = comm_websocket_adapter(comm)\n",
       "\n",
       "    function ondownload(figure, format) {\n",
       "        window.open(figure.imageObj.src);\n",
       "    }\n",
       "\n",
       "    var fig = new mpl.figure(id, ws_proxy,\n",
       "                           ondownload,\n",
       "                           element.get(0));\n",
       "\n",
       "    // Call onopen now - mpl needs it, as it is assuming we've passed it a real\n",
       "    // web socket which is closed, not our websocket->open comm proxy.\n",
       "    ws_proxy.onopen();\n",
       "\n",
       "    fig.parent_element = element.get(0);\n",
       "    fig.cell_info = mpl.find_output_cell(\"<div id='\" + id + \"'></div>\");\n",
       "    if (!fig.cell_info) {\n",
       "        console.error(\"Failed to find cell for figure\", id, fig);\n",
       "        return;\n",
       "    }\n",
       "\n",
       "    var output_index = fig.cell_info[2]\n",
       "    var cell = fig.cell_info[0];\n",
       "\n",
       "};\n",
       "\n",
       "mpl.figure.prototype.handle_close = function(fig, msg) {\n",
       "    var width = fig.canvas.width/mpl.ratio\n",
       "    fig.root.unbind('remove')\n",
       "\n",
       "    // Update the output cell to use the data from the current canvas.\n",
       "    fig.push_to_output();\n",
       "    var dataURL = fig.canvas.toDataURL();\n",
       "    // Re-enable the keyboard manager in IPython - without this line, in FF,\n",
       "    // the notebook keyboard shortcuts fail.\n",
       "    IPython.keyboard_manager.enable()\n",
       "    $(fig.parent_element).html('<img src=\"' + dataURL + '\" width=\"' + width + '\">');\n",
       "    fig.close_ws(fig, msg);\n",
       "}\n",
       "\n",
       "mpl.figure.prototype.close_ws = function(fig, msg){\n",
       "    fig.send_message('closing', msg);\n",
       "    // fig.ws.close()\n",
       "}\n",
       "\n",
       "mpl.figure.prototype.push_to_output = function(remove_interactive) {\n",
       "    // Turn the data on the canvas into data in the output cell.\n",
       "    var width = this.canvas.width/mpl.ratio\n",
       "    var dataURL = this.canvas.toDataURL();\n",
       "    this.cell_info[1]['text/html'] = '<img src=\"' + dataURL + '\" width=\"' + width + '\">';\n",
       "}\n",
       "\n",
       "mpl.figure.prototype.updated_canvas_event = function() {\n",
       "    // Tell IPython that the notebook contents must change.\n",
       "    IPython.notebook.set_dirty(true);\n",
       "    this.send_message(\"ack\", {});\n",
       "    var fig = this;\n",
       "    // Wait a second, then push the new image to the DOM so\n",
       "    // that it is saved nicely (might be nice to debounce this).\n",
       "    setTimeout(function () { fig.push_to_output() }, 1000);\n",
       "}\n",
       "\n",
       "mpl.figure.prototype._init_toolbar = function() {\n",
       "    var fig = this;\n",
       "\n",
       "    var nav_element = $('<div/>')\n",
       "    nav_element.attr('style', 'width: 100%');\n",
       "    this.root.append(nav_element);\n",
       "\n",
       "    // Define a callback function for later on.\n",
       "    function toolbar_event(event) {\n",
       "        return fig.toolbar_button_onclick(event['data']);\n",
       "    }\n",
       "    function toolbar_mouse_event(event) {\n",
       "        return fig.toolbar_button_onmouseover(event['data']);\n",
       "    }\n",
       "\n",
       "    for(var toolbar_ind in mpl.toolbar_items){\n",
       "        var name = mpl.toolbar_items[toolbar_ind][0];\n",
       "        var tooltip = mpl.toolbar_items[toolbar_ind][1];\n",
       "        var image = mpl.toolbar_items[toolbar_ind][2];\n",
       "        var method_name = mpl.toolbar_items[toolbar_ind][3];\n",
       "\n",
       "        if (!name) { continue; };\n",
       "\n",
       "        var button = $('<button class=\"btn btn-default\" href=\"#\" title=\"' + name + '\"><i class=\"fa ' + image + ' fa-lg\"></i></button>');\n",
       "        button.click(method_name, toolbar_event);\n",
       "        button.mouseover(tooltip, toolbar_mouse_event);\n",
       "        nav_element.append(button);\n",
       "    }\n",
       "\n",
       "    // Add the status bar.\n",
       "    var status_bar = $('<span class=\"mpl-message\" style=\"text-align:right; float: right;\"/>');\n",
       "    nav_element.append(status_bar);\n",
       "    this.message = status_bar[0];\n",
       "\n",
       "    // Add the close button to the window.\n",
       "    var buttongrp = $('<div class=\"btn-group inline pull-right\"></div>');\n",
       "    var button = $('<button class=\"btn btn-mini btn-primary\" href=\"#\" title=\"Stop Interaction\"><i class=\"fa fa-power-off icon-remove icon-large\"></i></button>');\n",
       "    button.click(function (evt) { fig.handle_close(fig, {}); } );\n",
       "    button.mouseover('Stop Interaction', toolbar_mouse_event);\n",
       "    buttongrp.append(button);\n",
       "    var titlebar = this.root.find($('.ui-dialog-titlebar'));\n",
       "    titlebar.prepend(buttongrp);\n",
       "}\n",
       "\n",
       "mpl.figure.prototype._root_extra_style = function(el){\n",
       "    var fig = this\n",
       "    el.on(\"remove\", function(){\n",
       "\tfig.close_ws(fig, {});\n",
       "    });\n",
       "}\n",
       "\n",
       "mpl.figure.prototype._canvas_extra_style = function(el){\n",
       "    // this is important to make the div 'focusable\n",
       "    el.attr('tabindex', 0)\n",
       "    // reach out to IPython and tell the keyboard manager to turn it's self\n",
       "    // off when our div gets focus\n",
       "\n",
       "    // location in version 3\n",
       "    if (IPython.notebook.keyboard_manager) {\n",
       "        IPython.notebook.keyboard_manager.register_events(el);\n",
       "    }\n",
       "    else {\n",
       "        // location in version 2\n",
       "        IPython.keyboard_manager.register_events(el);\n",
       "    }\n",
       "\n",
       "}\n",
       "\n",
       "mpl.figure.prototype._key_event_extra = function(event, name) {\n",
       "    var manager = IPython.notebook.keyboard_manager;\n",
       "    if (!manager)\n",
       "        manager = IPython.keyboard_manager;\n",
       "\n",
       "    // Check for shift+enter\n",
       "    if (event.shiftKey && event.which == 13) {\n",
       "        this.canvas_div.blur();\n",
       "        event.shiftKey = false;\n",
       "        // Send a \"J\" for go to next cell\n",
       "        event.which = 74;\n",
       "        event.keyCode = 74;\n",
       "        manager.command_mode();\n",
       "        manager.handle_keydown(event);\n",
       "    }\n",
       "}\n",
       "\n",
       "mpl.figure.prototype.handle_save = function(fig, msg) {\n",
       "    fig.ondownload(fig, null);\n",
       "}\n",
       "\n",
       "\n",
       "mpl.find_output_cell = function(html_output) {\n",
       "    // Return the cell and output element which can be found *uniquely* in the notebook.\n",
       "    // Note - this is a bit hacky, but it is done because the \"notebook_saving.Notebook\"\n",
       "    // IPython event is triggered only after the cells have been serialised, which for\n",
       "    // our purposes (turning an active figure into a static one), is too late.\n",
       "    var cells = IPython.notebook.get_cells();\n",
       "    var ncells = cells.length;\n",
       "    for (var i=0; i<ncells; i++) {\n",
       "        var cell = cells[i];\n",
       "        if (cell.cell_type === 'code'){\n",
       "            for (var j=0; j<cell.output_area.outputs.length; j++) {\n",
       "                var data = cell.output_area.outputs[j];\n",
       "                if (data.data) {\n",
       "                    // IPython >= 3 moved mimebundle to data attribute of output\n",
       "                    data = data.data;\n",
       "                }\n",
       "                if (data['text/html'] == html_output) {\n",
       "                    return [cell, data, j];\n",
       "                }\n",
       "            }\n",
       "        }\n",
       "    }\n",
       "}\n",
       "\n",
       "// Register the function which deals with the matplotlib target/channel.\n",
       "// The kernel may be null if the page has been refreshed.\n",
       "if (IPython.notebook.kernel != null) {\n",
       "    IPython.notebook.kernel.comm_manager.register_target('matplotlib', mpl.mpl_figure_comm);\n",
       "}\n"
      ],
      "text/plain": [
       "<IPython.core.display.Javascript object>"
      ]
     },
     "metadata": {},
     "output_type": "display_data"
    },
    {
     "data": {
      "text/html": [
       "<img src=\"data:image/png;base64,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\" width=\"1000\">"
      ],
      "text/plain": [
       "<IPython.core.display.HTML object>"
      ]
     },
     "metadata": {},
     "output_type": "display_data"
    },
    {
     "data": {
      "text/plain": [
       "[<matplotlib.lines.Line2D at 0x11a1f4518>]"
      ]
     },
     "execution_count": 24,
     "metadata": {},
     "output_type": "execute_result"
    }
   ],
   "source": [
    "plt.plot(data)"
   ]
  },
  {
   "cell_type": "markdown",
   "metadata": {},
   "source": [
    "If a line appeared it means you are setup to take advantage of matplotlib."
   ]
  },
  {
   "cell_type": "markdown",
   "metadata": {},
   "source": [
    "### Figures and Subplots"
   ]
  },
  {
   "cell_type": "code",
   "execution_count": null,
   "metadata": {},
   "outputs": [],
   "source": [
    "fig = plt.figure()"
   ]
  },
  {
   "cell_type": "code",
   "execution_count": null,
   "metadata": {},
   "outputs": [],
   "source": [
    "ax1 = fig.add_subplot(2, 2, 1)"
   ]
  },
  {
   "cell_type": "code",
   "execution_count": null,
   "metadata": {},
   "outputs": [],
   "source": [
    "ax2 = fig.add_subplot(2, 2, 2)\n",
    "ax3 = fig.add_subplot(2, 2, 3)"
   ]
  },
  {
   "cell_type": "markdown",
   "metadata": {},
   "source": [
    "fig = plt.figure()\n",
    "ax1 = fig.add_subplot(2, 2, 1)\n",
    "ax2 = fig.add_subplot(2, 2, 2)\n",
    "ax3 = fig.add_subplot(2, 2, 3)"
   ]
  },
  {
   "cell_type": "code",
   "execution_count": null,
   "metadata": {},
   "outputs": [],
   "source": [
    "plt.plot(np.random.randn(50).cumsum(), 'k--')"
   ]
  },
  {
   "cell_type": "code",
   "execution_count": null,
   "metadata": {},
   "outputs": [],
   "source": [
    "_ = ax1.hist(np.random.randn(100), bins=20, color='k', alpha=0.3)\n",
    "ax2.scatter(np.arange(30), np.arange(30) + 3 * np.random.randn(30))"
   ]
  },
  {
   "cell_type": "code",
   "execution_count": null,
   "metadata": {},
   "outputs": [],
   "source": [
    "plt.close('all')"
   ]
  },
  {
   "cell_type": "code",
   "execution_count": null,
   "metadata": {},
   "outputs": [],
   "source": [
    "fig, axes = plt.subplots(2, 3)\n",
    "axes"
   ]
  },
  {
   "cell_type": "markdown",
   "metadata": {},
   "source": [
    "#### Adjusting the spacing around subplots"
   ]
  },
  {
   "cell_type": "markdown",
   "metadata": {},
   "source": [
    "subplots_adjust(left=None, bottom=None, right=None, top=None,\n",
    "                wspace=None, hspace=None)"
   ]
  },
  {
   "cell_type": "markdown",
   "metadata": {},
   "source": [
    "fig, axes = plt.subplots(2, 2, sharex=True, sharey=True)\n",
    "for i in range(2):\n",
    "    for j in range(2):\n",
    "        axes[i, j].hist(np.random.randn(500), bins=50, color='k', alpha=0.5)\n",
    "plt.subplots_adjust(wspace=0, hspace=0)"
   ]
  },
  {
   "cell_type": "code",
   "execution_count": null,
   "metadata": {},
   "outputs": [],
   "source": [
    "fig, axes = plt.subplots(2, 2, sharex=True, sharey=True)\n",
    "for i in range(2):\n",
    "    for j in range(2):\n",
    "        axes[i, j].hist(np.random.randn(500), bins=50, color='k', alpha=0.5)\n",
    "plt.subplots_adjust(wspace=0, hspace=0)"
   ]
  },
  {
   "cell_type": "markdown",
   "metadata": {},
   "source": [
    "### Colors, Markers, and Line Styles"
   ]
  },
  {
   "cell_type": "markdown",
   "metadata": {},
   "source": [
    "ax.plot(x, y, 'g--')"
   ]
  },
  {
   "cell_type": "markdown",
   "metadata": {},
   "source": [
    "ax.plot(x, y, linestyle='--', color='g')"
   ]
  },
  {
   "cell_type": "code",
   "execution_count": null,
   "metadata": {},
   "outputs": [],
   "source": [
    "plt.figure()"
   ]
  },
  {
   "cell_type": "code",
   "execution_count": null,
   "metadata": {},
   "outputs": [],
   "source": [
    "from numpy.random import randn\n",
    "plt.plot(randn(30).cumsum(), 'ko--')"
   ]
  },
  {
   "cell_type": "markdown",
   "metadata": {},
   "source": [
    "plot(randn(30).cumsum(), color='k', linestyle='dashed', marker='o')"
   ]
  },
  {
   "cell_type": "code",
   "execution_count": null,
   "metadata": {},
   "outputs": [],
   "source": [
    "plt.close('all')"
   ]
  },
  {
   "cell_type": "code",
   "execution_count": null,
   "metadata": {},
   "outputs": [],
   "source": [
    "data = np.random.randn(30).cumsum()\n",
    "plt.plot(data, 'k--', label='Default')\n",
    "plt.plot(data, 'k-', drawstyle='steps-post', label='steps-post')\n",
    "plt.legend(loc='best')"
   ]
  },
  {
   "cell_type": "markdown",
   "metadata": {},
   "source": [
    "### Ticks, Labels, and Legends"
   ]
  },
  {
   "cell_type": "markdown",
   "metadata": {},
   "source": [
    "#### Setting the title, axis labels, ticks, and ticklabels"
   ]
  },
  {
   "cell_type": "code",
   "execution_count": null,
   "metadata": {},
   "outputs": [],
   "source": [
    "fig = plt.figure()\n",
    "ax = fig.add_subplot(1, 1, 1)\n",
    "ax.plot(np.random.randn(1000).cumsum())"
   ]
  },
  {
   "cell_type": "code",
   "execution_count": null,
   "metadata": {},
   "outputs": [],
   "source": [
    "ticks = ax.set_xticks([0, 250, 500, 750, 1000])\n",
    "labels = ax.set_xticklabels(['one', 'two', 'three', 'four', 'five'],\n",
    "                            rotation=30, fontsize='small')"
   ]
  },
  {
   "cell_type": "code",
   "execution_count": null,
   "metadata": {},
   "outputs": [],
   "source": [
    "ax.set_title('My first matplotlib plot')\n",
    "ax.set_xlabel('Stages')"
   ]
  },
  {
   "cell_type": "markdown",
   "metadata": {},
   "source": [
    "props = {\n",
    "    'title': 'My first matplotlib plot',\n",
    "    'xlabel': 'Stages'\n",
    "}\n",
    "ax.set(**props)"
   ]
  },
  {
   "cell_type": "markdown",
   "metadata": {},
   "source": [
    "#### Adding legends"
   ]
  },
  {
   "cell_type": "code",
   "execution_count": null,
   "metadata": {},
   "outputs": [],
   "source": [
    "from numpy.random import randn\n",
    "fig = plt.figure(); ax = fig.add_subplot(1, 1, 1)\n",
    "ax.plot(randn(1000).cumsum(), 'k', label='one')\n",
    "ax.plot(randn(1000).cumsum(), 'k--', label='two')\n",
    "ax.plot(randn(1000).cumsum(), 'k.', label='three')"
   ]
  },
  {
   "cell_type": "code",
   "execution_count": null,
   "metadata": {},
   "outputs": [],
   "source": [
    "ax.legend(loc='best')"
   ]
  },
  {
   "cell_type": "markdown",
   "metadata": {},
   "source": [
    "### Annotations and Drawing on a Subplot"
   ]
  },
  {
   "cell_type": "markdown",
   "metadata": {},
   "source": [
    "ax.text(x, y, 'Hello world!',\n",
    "        family='monospace', fontsize=10)"
   ]
  },
  {
   "cell_type": "code",
   "execution_count": null,
   "metadata": {},
   "outputs": [],
   "source": [
    "from datetime import datetime\n",
    "\n",
    "fig = plt.figure()\n",
    "ax = fig.add_subplot(1, 1, 1)\n",
    "\n",
    "data = pd.read_csv('examples/spx.csv', index_col=0, parse_dates=True)\n",
    "spx = data['SPX']\n",
    "\n",
    "spx.plot(ax=ax, style='k-')\n",
    "\n",
    "crisis_data = [\n",
    "    (datetime(2007, 10, 11), 'Peak of bull market'),\n",
    "    (datetime(2008, 3, 12), 'Bear Stearns Fails'),\n",
    "    (datetime(2008, 9, 15), 'Lehman Bankruptcy')\n",
    "]\n",
    "\n",
    "for date, label in crisis_data:\n",
    "    ax.annotate(label, xy=(date, spx.asof(date) + 75),\n",
    "                xytext=(date, spx.asof(date) + 225),\n",
    "                arrowprops=dict(facecolor='black', headwidth=4, width=2,\n",
    "                                headlength=4),\n",
    "                horizontalalignment='left', verticalalignment='top')\n",
    "\n",
    "# Zoom in on 2007-2010\n",
    "ax.set_xlim(['1/1/2007', '1/1/2011'])\n",
    "ax.set_ylim([600, 1800])\n",
    "\n",
    "ax.set_title('Important dates in the 2008-2009 financial crisis')"
   ]
  },
  {
   "cell_type": "code",
   "execution_count": null,
   "metadata": {},
   "outputs": [],
   "source": [
    "ax.set_title('Important dates in the 2008–2009 financial crisis')"
   ]
  },
  {
   "cell_type": "markdown",
   "metadata": {},
   "source": [
    "fig = plt.figure()\n",
    "ax = fig.add_subplot(1, 1, 1)\n",
    "\n",
    "rect = plt.Rectangle((0.2, 0.75), 0.4, 0.15, color='k', alpha=0.3)\n",
    "circ = plt.Circle((0.7, 0.2), 0.15, color='b', alpha=0.3)\n",
    "pgon = plt.Polygon([[0.15, 0.15], [0.35, 0.4], [0.2, 0.6]],\n",
    "                   color='g', alpha=0.5)\n",
    "\n",
    "ax.add_patch(rect)\n",
    "ax.add_patch(circ)\n",
    "ax.add_patch(pgon)"
   ]
  },
  {
   "cell_type": "code",
   "execution_count": null,
   "metadata": {},
   "outputs": [],
   "source": [
    "fig = plt.figure(figsize=(12, 6)); ax = fig.add_subplot(1, 1, 1)\n",
    "rect = plt.Rectangle((0.2, 0.75), 0.4, 0.15, color='k', alpha=0.3)\n",
    "circ = plt.Circle((0.7, 0.2), 0.15, color='b', alpha=0.3)\n",
    "pgon = plt.Polygon([[0.15, 0.15], [0.35, 0.4], [0.2, 0.6]],\n",
    "                   color='g', alpha=0.5)\n",
    "ax.add_patch(rect)\n",
    "ax.add_patch(circ)\n",
    "ax.add_patch(pgon)"
   ]
  },
  {
   "cell_type": "markdown",
   "metadata": {},
   "source": [
    "### Saving Plots to File"
   ]
  },
  {
   "cell_type": "markdown",
   "metadata": {},
   "source": [
    "plt.savefig('figpath.svg')"
   ]
  },
  {
   "cell_type": "markdown",
   "metadata": {},
   "source": [
    "plt.savefig('figpath.png', dpi=400, bbox_inches='tight')"
   ]
  },
  {
   "cell_type": "markdown",
   "metadata": {},
   "source": [
    "from io import BytesIO\n",
    "buffer = BytesIO()\n",
    "plt.savefig(buffer)\n",
    "plot_data = buffer.getvalue()"
   ]
  },
  {
   "cell_type": "markdown",
   "metadata": {},
   "source": [
    "### matplotlib Configuration"
   ]
  },
  {
   "cell_type": "markdown",
   "metadata": {},
   "source": [
    "plt.rc('figure', figsize=(10, 10))"
   ]
  },
  {
   "cell_type": "markdown",
   "metadata": {},
   "source": [
    "font_options = {'family' : 'monospace',\n",
    "                'weight' : 'bold',\n",
    "                'size'   : 'small'}\n",
    "plt.rc('font', **font_options)"
   ]
  },
  {
   "cell_type": "markdown",
   "metadata": {},
   "source": [
    "## Plotting with pandas and seaborn"
   ]
  },
  {
   "cell_type": "markdown",
   "metadata": {},
   "source": [
    "### Line Plots"
   ]
  },
  {
   "cell_type": "code",
   "execution_count": null,
   "metadata": {},
   "outputs": [],
   "source": [
    "plt.close('all')"
   ]
  },
  {
   "cell_type": "code",
   "execution_count": null,
   "metadata": {},
   "outputs": [],
   "source": [
    "s = pd.Series(np.random.randn(10).cumsum(), index=np.arange(0, 100, 10))\n",
    "s.plot()"
   ]
  },
  {
   "cell_type": "code",
   "execution_count": null,
   "metadata": {},
   "outputs": [],
   "source": [
    "df = pd.DataFrame(np.random.randn(10, 4).cumsum(0),\n",
    "                  columns=['A', 'B', 'C', 'D'],\n",
    "                  index=np.arange(0, 100, 10))\n",
    "df.plot()"
   ]
  },
  {
   "cell_type": "markdown",
   "metadata": {},
   "source": [
    "### Bar Plots"
   ]
  },
  {
   "cell_type": "code",
   "execution_count": null,
   "metadata": {},
   "outputs": [],
   "source": [
    "fig, axes = plt.subplots(2, 1)\n",
    "data = pd.Series(np.random.rand(16), index=list('abcdefghijklmnop'))\n",
    "data.plot.bar(ax=axes[0], color='k', alpha=0.7)\n",
    "data.plot.barh(ax=axes[1], color='k', alpha=0.7)"
   ]
  },
  {
   "cell_type": "code",
   "execution_count": null,
   "metadata": {},
   "outputs": [],
   "source": [
    "np.random.seed(12348)"
   ]
  },
  {
   "cell_type": "code",
   "execution_count": null,
   "metadata": {},
   "outputs": [],
   "source": [
    "df = pd.DataFrame(np.random.rand(6, 4),\n",
    "                  index=['one', 'two', 'three', 'four', 'five', 'six'],\n",
    "                  columns=pd.Index(['A', 'B', 'C', 'D'], name='Genus'))\n",
    "df\n",
    "df.plot.bar()"
   ]
  },
  {
   "cell_type": "code",
   "execution_count": null,
   "metadata": {},
   "outputs": [],
   "source": [
    "plt.figure()"
   ]
  },
  {
   "cell_type": "code",
   "execution_count": null,
   "metadata": {},
   "outputs": [],
   "source": [
    "df.plot.barh(stacked=True, alpha=0.5)"
   ]
  },
  {
   "cell_type": "code",
   "execution_count": null,
   "metadata": {},
   "outputs": [],
   "source": [
    "plt.close('all')"
   ]
  },
  {
   "cell_type": "code",
   "execution_count": null,
   "metadata": {},
   "outputs": [],
   "source": [
    "tips = pd.read_csv('examples/tips.csv')\n",
    "party_counts = pd.crosstab(tips['day'], tips['size'])\n",
    "party_counts\n",
    "# Not many 1- and 6-person parties\n",
    "party_counts = party_counts.loc[:, 2:5]"
   ]
  },
  {
   "cell_type": "code",
   "execution_count": null,
   "metadata": {},
   "outputs": [],
   "source": [
    "# Normalize to sum to 1\n",
    "party_pcts = party_counts.div(party_counts.sum(1), axis=0)\n",
    "party_pcts\n",
    "party_pcts.plot.bar()"
   ]
  },
  {
   "cell_type": "code",
   "execution_count": null,
   "metadata": {},
   "outputs": [],
   "source": [
    "plt.close('all')"
   ]
  },
  {
   "cell_type": "code",
   "execution_count": null,
   "metadata": {},
   "outputs": [],
   "source": [
    "import seaborn as sns\n",
    "tips['tip_pct'] = tips['tip'] / (tips['total_bill'] - tips['tip'])\n",
    "tips.head()\n",
    "sns.barplot(x='tip_pct', y='day', data=tips, orient='h')"
   ]
  },
  {
   "cell_type": "code",
   "execution_count": null,
   "metadata": {},
   "outputs": [],
   "source": [
    "plt.close('all')"
   ]
  },
  {
   "cell_type": "code",
   "execution_count": null,
   "metadata": {},
   "outputs": [],
   "source": [
    "sns.barplot(x='tip_pct', y='day', hue='time', data=tips, orient='h')"
   ]
  },
  {
   "cell_type": "code",
   "execution_count": null,
   "metadata": {},
   "outputs": [],
   "source": [
    "plt.close('all')"
   ]
  },
  {
   "cell_type": "code",
   "execution_count": null,
   "metadata": {},
   "outputs": [],
   "source": [
    "sns.set(style=\"whitegrid\")"
   ]
  },
  {
   "cell_type": "markdown",
   "metadata": {},
   "source": [
    "### Histograms and Density Plots"
   ]
  },
  {
   "cell_type": "code",
   "execution_count": null,
   "metadata": {},
   "outputs": [],
   "source": [
    "plt.figure()"
   ]
  },
  {
   "cell_type": "code",
   "execution_count": null,
   "metadata": {},
   "outputs": [],
   "source": [
    "tips['tip_pct'].plot.hist(bins=50)"
   ]
  },
  {
   "cell_type": "code",
   "execution_count": null,
   "metadata": {},
   "outputs": [],
   "source": [
    "plt.figure()"
   ]
  },
  {
   "cell_type": "code",
   "execution_count": null,
   "metadata": {},
   "outputs": [],
   "source": [
    "tips['tip_pct'].plot.density()"
   ]
  },
  {
   "cell_type": "code",
   "execution_count": null,
   "metadata": {},
   "outputs": [],
   "source": [
    "plt.figure()"
   ]
  },
  {
   "cell_type": "code",
   "execution_count": null,
   "metadata": {},
   "outputs": [],
   "source": [
    "comp1 = np.random.normal(0, 1, size=200)\n",
    "comp2 = np.random.normal(10, 2, size=200)\n",
    "values = pd.Series(np.concatenate([comp1, comp2]))\n",
    "sns.distplot(values, bins=100, color='k')"
   ]
  },
  {
   "cell_type": "markdown",
   "metadata": {},
   "source": [
    "### Scatter or Point Plots"
   ]
  },
  {
   "cell_type": "code",
   "execution_count": null,
   "metadata": {},
   "outputs": [],
   "source": [
    "macro = pd.read_csv('examples/macrodata.csv')\n",
    "data = macro[['cpi', 'm1', 'tbilrate', 'unemp']]\n",
    "trans_data = np.log(data).diff().dropna()\n",
    "trans_data[-5:]"
   ]
  },
  {
   "cell_type": "code",
   "execution_count": null,
   "metadata": {},
   "outputs": [],
   "source": [
    "plt.figure()"
   ]
  },
  {
   "cell_type": "code",
   "execution_count": null,
   "metadata": {},
   "outputs": [],
   "source": [
    "sns.regplot('m1', 'unemp', data=trans_data)\n",
    "plt.title('Changes in log %s versus log %s' % ('m1', 'unemp'))"
   ]
  },
  {
   "cell_type": "code",
   "execution_count": null,
   "metadata": {},
   "outputs": [],
   "source": [
    "sns.pairplot(trans_data, diag_kind='kde', plot_kws={'alpha': 0.2})"
   ]
  },
  {
   "cell_type": "markdown",
   "metadata": {},
   "source": [
    "### Facet Grids and Categorical Data"
   ]
  },
  {
   "cell_type": "code",
   "execution_count": null,
   "metadata": {},
   "outputs": [],
   "source": [
    "sns.factorplot(x='day', y='tip_pct', hue='time', col='smoker',\n",
    "               kind='bar', data=tips[tips.tip_pct < 1])"
   ]
  },
  {
   "cell_type": "code",
   "execution_count": null,
   "metadata": {},
   "outputs": [],
   "source": [
    "sns.factorplot(x='day', y='tip_pct', row='time',\n",
    "               col='smoker',\n",
    "               kind='bar', data=tips[tips.tip_pct < 1])"
   ]
  },
  {
   "cell_type": "code",
   "execution_count": null,
   "metadata": {},
   "outputs": [],
   "source": [
    "sns.factorplot(x='tip_pct', y='day', kind='box',\n",
    "               data=tips[tips.tip_pct < 0.5])"
   ]
  },
  {
   "cell_type": "markdown",
   "metadata": {},
   "source": [
    "## Other Python Visualization Tools"
   ]
  },
  {
   "cell_type": "code",
   "execution_count": null,
   "metadata": {},
   "outputs": [],
   "source": [
    "pd.options.display.max_rows = PREVIOUS_MAX_ROWS"
   ]
  },
  {
   "cell_type": "markdown",
   "metadata": {},
   "source": [
    "## Conclusion"
   ]
  }
 ],
 "metadata": {
  "kernelspec": {
   "display_name": "Python 3",
   "language": "python",
   "name": "python3"
  },
  "language_info": {
   "codemirror_mode": {
    "name": "ipython",
    "version": 3
   },
   "file_extension": ".py",
   "mimetype": "text/x-python",
   "name": "python",
   "nbconvert_exporter": "python",
   "pygments_lexer": "ipython3",
   "version": "3.7.1"
  }
 },
 "nbformat": 4,
 "nbformat_minor": 4
}
