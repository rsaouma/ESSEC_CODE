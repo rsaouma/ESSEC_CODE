{
 "cells": [
  {
   "cell_type": "markdown",
   "metadata": {
    "collapsed": true
   },
   "source": [
    "# Week 8\n"
   ]
  },
  {
   "cell_type": "markdown",
   "metadata": {},
   "source": [
    "## Evaluation for Classification"
   ]
  },
  {
   "cell_type": "markdown",
   "metadata": {},
   "source": [
    "![Indexing](load_d.png)"
   ]
  },
  {
   "cell_type": "markdown",
   "metadata": {},
   "source": [
    "Data Set Information:\n",
    "\n",
    "We used preprocessing programs made available by NIST to extract normalized bitmaps of handwritten digits from a preprinted form. From a total of 43 people, 30 contributed to the training set and different 13 to the test set. 32x32 bitmaps are divided into nonoverlapping blocks of 4x4 and the number of on pixels are counted in each block. This generates an input matrix of 8x8 where each element is an integer in the range 0..16. This reduces dimensionality and gives invariance to small distortions.\n",
    "\n",
    "For info on NIST preprocessing routines, see M. D. Garris, J. L. Blue, G. T. Candela, D. L. Dimmick, J. Geist, P. J. Grother, S. A. Janet, and C. L. Wilson, NIST Form-Based Handprint Recognition System, NISTIR 5469, 1994.\n",
    "\n",
    "\n",
    "https://archive.ics.uci.edu/ml/datasets/Optical+Recognition+of+Handwritten+Digits"
   ]
  },
  {
   "cell_type": "markdown",
   "metadata": {},
   "source": [
    "![Indexing](load_digit.png)"
   ]
  },
  {
   "cell_type": "markdown",
   "metadata": {},
   "source": [
    "### Preamble"
   ]
  },
  {
   "cell_type": "code",
   "execution_count": 1,
   "metadata": {},
   "outputs": [
    {
     "name": "stdout",
     "output_type": "stream",
     "text": [
      "0 178\n",
      "1 182\n",
      "2 177\n",
      "3 183\n",
      "4 181\n",
      "5 182\n",
      "6 181\n",
      "7 179\n",
      "8 174\n",
      "9 180\n"
     ]
    }
   ],
   "source": [
    "%matplotlib notebook\n",
    "import numpy as np\n",
    "import pandas as pd\n",
    "import seaborn as sns\n",
    "import matplotlib.pyplot as plt\n",
    "from sklearn.model_selection import train_test_split\n",
    "from sklearn.datasets import load_digits\n",
    "\n",
    "dataset = load_digits()\n",
    "X, y = dataset.data, dataset.target\n",
    "\n",
    "for class_name, class_count in zip(dataset.target_names, np.bincount(dataset.target)):\n",
    "    print(class_name,class_count)"
   ]
  },
  {
   "cell_type": "code",
   "execution_count": 3,
   "metadata": {},
   "outputs": [
    {
     "data": {
      "text/plain": [
       "array([ 0.,  0.,  0., 12., 13.,  5.,  0.,  0.,  0.,  0.,  0., 11., 16.,\n",
       "        9.,  0.,  0.,  0.,  0.,  3., 15., 16.,  6.,  0.,  0.,  0.,  7.,\n",
       "       15., 16., 16.,  2.,  0.,  0.,  0.,  0.,  1., 16., 16.,  3.,  0.,\n",
       "        0.,  0.,  0.,  1., 16., 16.,  6.,  0.,  0.,  0.,  0.,  1., 16.,\n",
       "       16.,  6.,  0.,  0.,  0.,  0.,  0., 11., 16., 10.,  0.,  0.])"
      ]
     },
     "execution_count": 3,
     "metadata": {},
     "output_type": "execute_result"
    }
   ],
   "source": [
    "X[1]"
   ]
  },
  {
   "cell_type": "code",
   "execution_count": 4,
   "metadata": {},
   "outputs": [
    {
     "data": {
      "text/plain": [
       "(1797, 64)"
      ]
     },
     "execution_count": 4,
     "metadata": {},
     "output_type": "execute_result"
    }
   ],
   "source": [
    "X.shape"
   ]
  },
  {
   "cell_type": "code",
   "execution_count": 5,
   "metadata": {},
   "outputs": [
    {
     "data": {
      "text/plain": [
       "(1797,)"
      ]
     },
     "execution_count": 5,
     "metadata": {},
     "output_type": "execute_result"
    }
   ],
   "source": [
    "(dataset.target.shape)"
   ]
  },
  {
   "cell_type": "code",
   "execution_count": 6,
   "metadata": {},
   "outputs": [
    {
     "name": "stdout",
     "output_type": "stream",
     "text": [
      "Original labels:\t [1 2 3 4 5 6 7 8 9 0 1 2 3 4 5 6 7 8 9 0 1 2 3 4 5 6 7 8 9]\n",
      "New binary labels:\t [1 0 0 0 0 0 0 0 0 0 1 0 0 0 0 0 0 0 0 0 1 0 0 0 0 0 0 0 0]\n"
     ]
    }
   ],
   "source": [
    "# Creating a dataset with imbalanced binary classes:  \n",
    "# Negative class (0) is 'not digit 1' \n",
    "# Positive class (1) is 'digit 1'\n",
    "y_binary_imbalanced = y.copy()\n",
    "y_binary_imbalanced[y_binary_imbalanced != 1] = 0\n",
    "\n",
    "print('Original labels:\\t', y[1:30])\n",
    "print('New binary labels:\\t', y_binary_imbalanced[1:30])"
   ]
  },
  {
   "cell_type": "code",
   "execution_count": 7,
   "metadata": {
    "scrolled": true
   },
   "outputs": [
    {
     "data": {
      "text/plain": [
       "array([1615,  182])"
      ]
     },
     "execution_count": 7,
     "metadata": {},
     "output_type": "execute_result"
    }
   ],
   "source": [
    "np.bincount(y_binary_imbalanced)    # Negative class (0) is the most frequent class"
   ]
  },
  {
   "cell_type": "code",
   "execution_count": 8,
   "metadata": {},
   "outputs": [
    {
     "data": {
      "text/plain": [
       "0.9955555555555555"
      ]
     },
     "execution_count": 8,
     "metadata": {},
     "output_type": "execute_result"
    }
   ],
   "source": [
    "X_train, X_test, y_train, y_test = train_test_split(X, y_binary_imbalanced, random_state=0)\n",
    "# Radial Basis Function\n",
    "# Accuracy of Support Vector Machine classifier\n",
    "from sklearn.svm import SVC\n",
    "\n",
    "svm = SVC(kernel='rbf', C=1).fit(X_train, y_train)\n",
    "svm.score(X_test, y_test)"
   ]
  },
  {
   "cell_type": "markdown",
   "metadata": {},
   "source": [
    "### Dummy Classifiers"
   ]
  },
  {
   "cell_type": "markdown",
   "metadata": {
    "collapsed": true
   },
   "source": [
    "DummyClassifier is a classifier that makes predictions using simple rules, which can be useful as a baseline for comparison against actual classifiers, especially with imbalanced classes."
   ]
  },
  {
   "cell_type": "code",
   "execution_count": 9,
   "metadata": {},
   "outputs": [
    {
     "data": {
      "text/plain": [
       "array([0, 0, 0, 0, 0, 0, 0, 0, 0, 0, 0, 0, 0, 0, 0, 0, 0, 0, 0, 0, 0, 0,\n",
       "       0, 0, 0, 0, 0, 0, 0, 0, 0, 0, 0, 0, 0, 0, 0, 0, 0, 0, 0, 0, 0, 0,\n",
       "       0, 0, 0, 0, 0, 0, 0, 0, 0, 0, 0, 0, 0, 0, 0, 0, 0, 0, 0, 0, 0, 0,\n",
       "       0, 0, 0, 0, 0, 0, 0, 0, 0, 0, 0, 0, 0, 0, 0, 0, 0, 0, 0, 0, 0, 0,\n",
       "       0, 0, 0, 0, 0, 0, 0, 0, 0, 0, 0, 0, 0, 0, 0, 0, 0, 0, 0, 0, 0, 0,\n",
       "       0, 0, 0, 0, 0, 0, 0, 0, 0, 0, 0, 0, 0, 0, 0, 0, 0, 0, 0, 0, 0, 0,\n",
       "       0, 0, 0, 0, 0, 0, 0, 0, 0, 0, 0, 0, 0, 0, 0, 0, 0, 0, 0, 0, 0, 0,\n",
       "       0, 0, 0, 0, 0, 0, 0, 0, 0, 0, 0, 0, 0, 0, 0, 0, 0, 0, 0, 0, 0, 0,\n",
       "       0, 0, 0, 0, 0, 0, 0, 0, 0, 0, 0, 0, 0, 0, 0, 0, 0, 0, 0, 0, 0, 0,\n",
       "       0, 0, 0, 0, 0, 0, 0, 0, 0, 0, 0, 0, 0, 0, 0, 0, 0, 0, 0, 0, 0, 0,\n",
       "       0, 0, 0, 0, 0, 0, 0, 0, 0, 0, 0, 0, 0, 0, 0, 0, 0, 0, 0, 0, 0, 0,\n",
       "       0, 0, 0, 0, 0, 0, 0, 0, 0, 0, 0, 0, 0, 0, 0, 0, 0, 0, 0, 0, 0, 0,\n",
       "       0, 0, 0, 0, 0, 0, 0, 0, 0, 0, 0, 0, 0, 0, 0, 0, 0, 0, 0, 0, 0, 0,\n",
       "       0, 0, 0, 0, 0, 0, 0, 0, 0, 0, 0, 0, 0, 0, 0, 0, 0, 0, 0, 0, 0, 0,\n",
       "       0, 0, 0, 0, 0, 0, 0, 0, 0, 0, 0, 0, 0, 0, 0, 0, 0, 0, 0, 0, 0, 0,\n",
       "       0, 0, 0, 0, 0, 0, 0, 0, 0, 0, 0, 0, 0, 0, 0, 0, 0, 0, 0, 0, 0, 0,\n",
       "       0, 0, 0, 0, 0, 0, 0, 0, 0, 0, 0, 0, 0, 0, 0, 0, 0, 0, 0, 0, 0, 0,\n",
       "       0, 0, 0, 0, 0, 0, 0, 0, 0, 0, 0, 0, 0, 0, 0, 0, 0, 0, 0, 0, 0, 0,\n",
       "       0, 0, 0, 0, 0, 0, 0, 0, 0, 0, 0, 0, 0, 0, 0, 0, 0, 0, 0, 0, 0, 0,\n",
       "       0, 0, 0, 0, 0, 0, 0, 0, 0, 0, 0, 0, 0, 0, 0, 0, 0, 0, 0, 0, 0, 0,\n",
       "       0, 0, 0, 0, 0, 0, 0, 0, 0, 0])"
      ]
     },
     "execution_count": 9,
     "metadata": {},
     "output_type": "execute_result"
    }
   ],
   "source": [
    "from sklearn.dummy import DummyClassifier\n",
    "\n",
    "# Negative class (0) is most frequent\n",
    "dummy_majority = DummyClassifier(strategy = 'most_frequent').fit(X_train, y_train)\n",
    "# Therefore the dummy 'most_frequent' classifier always predicts class 0\n",
    "y_dummy_predictions = dummy_majority.predict(X_test)\n",
    "\n",
    "y_dummy_predictions"
   ]
  },
  {
   "cell_type": "code",
   "execution_count": 10,
   "metadata": {},
   "outputs": [
    {
     "data": {
      "text/plain": [
       "0.9044444444444445"
      ]
     },
     "execution_count": 10,
     "metadata": {},
     "output_type": "execute_result"
    }
   ],
   "source": [
    "dummy_majority.score(X_test, y_test)"
   ]
  },
  {
   "cell_type": "code",
   "execution_count": 11,
   "metadata": {},
   "outputs": [
    {
     "data": {
      "text/plain": [
       "0.9777777777777777"
      ]
     },
     "execution_count": 11,
     "metadata": {},
     "output_type": "execute_result"
    }
   ],
   "source": [
    "svm = SVC(kernel='linear', C=1).fit(X_train, y_train)\n",
    "svm.score(X_test, y_test)"
   ]
  },
  {
   "cell_type": "markdown",
   "metadata": {},
   "source": [
    "### Confusion matrices"
   ]
  },
  {
   "cell_type": "markdown",
   "metadata": {},
   "source": [
    "#### Binary (two-class) confusion matrix"
   ]
  },
  {
   "cell_type": "code",
   "execution_count": 12,
   "metadata": {},
   "outputs": [
    {
     "name": "stdout",
     "output_type": "stream",
     "text": [
      "Most frequent class (dummy classifier)\n",
      " [[407   0]\n",
      " [ 43   0]]\n"
     ]
    }
   ],
   "source": [
    "from sklearn.metrics import confusion_matrix\n",
    "\n",
    "# Negative class (0) is most frequent\n",
    "dummy_majority = DummyClassifier(strategy = 'most_frequent').fit(X_train, y_train)\n",
    "y_majority_predicted = dummy_majority.predict(X_test)\n",
    "confusion = confusion_matrix(y_test, y_majority_predicted)\n",
    "\n",
    "print('Most frequent class (dummy classifier)\\n', confusion)"
   ]
  },
  {
   "cell_type": "code",
   "execution_count": 15,
   "metadata": {},
   "outputs": [
    {
     "data": {
      "text/plain": [
       "(450, 64)"
      ]
     },
     "execution_count": 15,
     "metadata": {},
     "output_type": "execute_result"
    }
   ],
   "source": [
    "X_test.shape"
   ]
  },
  {
   "cell_type": "code",
   "execution_count": 13,
   "metadata": {},
   "outputs": [
    {
     "name": "stdout",
     "output_type": "stream",
     "text": [
      "Random class-proportional prediction (dummy classifier)\n",
      " [[362  45]\n",
      " [ 39   4]]\n"
     ]
    }
   ],
   "source": [
    "# produces random predictions w/ same class proportion as training set\n",
    "dummy_classprop = DummyClassifier(strategy='stratified').fit(X_train, y_train)\n",
    "y_classprop_predicted = dummy_classprop.predict(X_test)\n",
    "confusion = confusion_matrix(y_test, y_classprop_predicted)\n",
    "\n",
    "print('Random class-proportional prediction (dummy classifier)\\n', confusion)"
   ]
  },
  {
   "cell_type": "code",
   "execution_count": 14,
   "metadata": {
    "scrolled": true
   },
   "outputs": [
    {
     "name": "stdout",
     "output_type": "stream",
     "text": [
      "Support vector machine classifier (linear kernel, C=1)\n",
      " [[402   5]\n",
      " [  5  38]]\n"
     ]
    }
   ],
   "source": [
    "svm = SVC(kernel='linear', C=1).fit(X_train, y_train)\n",
    "svm_predicted = svm.predict(X_test)\n",
    "confusion = confusion_matrix(y_test, svm_predicted)\n",
    "\n",
    "print('Support vector machine classifier (linear kernel, C=1)\\n', confusion)"
   ]
  },
  {
   "cell_type": "code",
   "execution_count": 15,
   "metadata": {},
   "outputs": [
    {
     "name": "stdout",
     "output_type": "stream",
     "text": [
      "Logistic regression classifier (default settings)\n",
      " [[401   6]\n",
      " [  8  35]]\n"
     ]
    },
    {
     "name": "stderr",
     "output_type": "stream",
     "text": [
      "/Users/ramzisaouma/opt/anaconda3/lib/python3.7/site-packages/sklearn/linear_model/_logistic.py:940: ConvergenceWarning: lbfgs failed to converge (status=1):\n",
      "STOP: TOTAL NO. of ITERATIONS REACHED LIMIT.\n",
      "\n",
      "Increase the number of iterations (max_iter) or scale the data as shown in:\n",
      "    https://scikit-learn.org/stable/modules/preprocessing.html\n",
      "Please also refer to the documentation for alternative solver options:\n",
      "    https://scikit-learn.org/stable/modules/linear_model.html#logistic-regression\n",
      "  extra_warning_msg=_LOGISTIC_SOLVER_CONVERGENCE_MSG)\n"
     ]
    }
   ],
   "source": [
    "from sklearn.linear_model import LogisticRegression\n",
    "\n",
    "lr = LogisticRegression().fit(X_train, y_train)\n",
    "lr_predicted = lr.predict(X_test)\n",
    "confusion = confusion_matrix(y_test, lr_predicted)\n",
    "\n",
    "print('Logistic regression classifier (default settings)\\n', confusion)"
   ]
  },
  {
   "cell_type": "code",
   "execution_count": 16,
   "metadata": {},
   "outputs": [
    {
     "name": "stdout",
     "output_type": "stream",
     "text": [
      "Decision tree classifier (max_depth = 2)\n",
      " [[400   7]\n",
      " [ 17  26]]\n"
     ]
    }
   ],
   "source": [
    "from sklearn.tree import DecisionTreeClassifier\n",
    "\n",
    "dt = DecisionTreeClassifier(max_depth=2).fit(X_train, y_train)\n",
    "tree_predicted = dt.predict(X_test)\n",
    "confusion = confusion_matrix(y_test, tree_predicted)\n",
    "\n",
    "print('Decision tree classifier (max_depth = 2)\\n', confusion)"
   ]
  },
  {
   "cell_type": "markdown",
   "metadata": {},
   "source": [
    "### Evaluation metrics for binary classification"
   ]
  },
  {
   "cell_type": "code",
   "execution_count": 17,
   "metadata": {},
   "outputs": [
    {
     "name": "stdout",
     "output_type": "stream",
     "text": [
      "Accuracy: 0.95\n",
      "Precision: 0.79\n",
      "Recall: 0.60\n",
      "F1: 0.68\n"
     ]
    }
   ],
   "source": [
    "from sklearn.metrics import accuracy_score, precision_score, recall_score, f1_score\n",
    "# Accuracy = TP + TN / (TP + TN + FP + FN)\n",
    "# Precision = TP / (TP + FP)\n",
    "# Recall = TP / (TP + FN)  Also known as sensitivity, or True Positive Rate\n",
    "# F1 = 2 * Precision * Recall / (Precision + Recall) \n",
    "print('Accuracy: {:.2f}'.format(accuracy_score(y_test, tree_predicted)))\n",
    "print('Precision: {:.2f}'.format(precision_score(y_test, tree_predicted)))\n",
    "print('Recall: {:.2f}'.format(recall_score(y_test, tree_predicted)))\n",
    "print('F1: {:.2f}'.format(f1_score(y_test, tree_predicted)))"
   ]
  },
  {
   "cell_type": "code",
   "execution_count": null,
   "metadata": {},
   "outputs": [],
   "source": []
  },
  {
   "cell_type": "code",
   "execution_count": 18,
   "metadata": {},
   "outputs": [
    {
     "name": "stdout",
     "output_type": "stream",
     "text": [
      "              precision    recall  f1-score   support\n",
      "\n",
      "       not 1       0.96      0.98      0.97       407\n",
      "           1       0.79      0.60      0.68        43\n",
      "\n",
      "    accuracy                           0.95       450\n",
      "   macro avg       0.87      0.79      0.83       450\n",
      "weighted avg       0.94      0.95      0.94       450\n",
      "\n"
     ]
    }
   ],
   "source": [
    "# Combined report with all above metrics\n",
    "from sklearn.metrics import classification_report\n",
    "\n",
    "print(classification_report(y_test, tree_predicted, target_names=['not 1', '1']))"
   ]
  },
  {
   "cell_type": "code",
   "execution_count": 19,
   "metadata": {
    "scrolled": false
   },
   "outputs": [
    {
     "name": "stdout",
     "output_type": "stream",
     "text": [
      "Random class-proportional (dummy)\n",
      "               precision    recall  f1-score   support\n",
      "\n",
      "       not 1       0.90      0.89      0.90       407\n",
      "           1       0.08      0.09      0.09        43\n",
      "\n",
      "    accuracy                           0.81       450\n",
      "   macro avg       0.49      0.49      0.49       450\n",
      "weighted avg       0.82      0.81      0.82       450\n",
      "\n",
      "SVM\n",
      "               precision    recall  f1-score   support\n",
      "\n",
      "       not 1       0.99      0.99      0.99       407\n",
      "           1       0.88      0.88      0.88        43\n",
      "\n",
      "    accuracy                           0.98       450\n",
      "   macro avg       0.94      0.94      0.94       450\n",
      "weighted avg       0.98      0.98      0.98       450\n",
      "\n",
      "Logistic regression\n",
      "               precision    recall  f1-score   support\n",
      "\n",
      "       not 1       0.98      0.99      0.98       407\n",
      "           1       0.85      0.81      0.83        43\n",
      "\n",
      "    accuracy                           0.97       450\n",
      "   macro avg       0.92      0.90      0.91       450\n",
      "weighted avg       0.97      0.97      0.97       450\n",
      "\n",
      "Decision tree\n",
      "               precision    recall  f1-score   support\n",
      "\n",
      "       not 1       0.96      0.98      0.97       407\n",
      "           1       0.79      0.60      0.68        43\n",
      "\n",
      "    accuracy                           0.95       450\n",
      "   macro avg       0.87      0.79      0.83       450\n",
      "weighted avg       0.94      0.95      0.94       450\n",
      "\n"
     ]
    }
   ],
   "source": [
    "print('Random class-proportional (dummy)\\n', \n",
    "      classification_report(y_test, y_classprop_predicted, target_names=['not 1', '1']))\n",
    "print('SVM\\n', \n",
    "      classification_report(y_test, svm_predicted, target_names = ['not 1', '1']))\n",
    "print('Logistic regression\\n', \n",
    "      classification_report(y_test, lr_predicted, target_names = ['not 1', '1']))\n",
    "print('Decision tree\\n', \n",
    "      classification_report(y_test, tree_predicted, target_names = ['not 1', '1']))"
   ]
  },
  {
   "cell_type": "markdown",
   "metadata": {},
   "source": [
    "### Regression evaluation metrics"
   ]
  },
  {
   "cell_type": "code",
   "execution_count": 20,
   "metadata": {},
   "outputs": [
    {
     "name": "stdout",
     "output_type": "stream",
     "text": [
      "Linear model, coefficients:  [-698.80206267]\n",
      "Mean squared error (dummy): 4965.13\n",
      "Mean squared error (linear model): 4646.74\n",
      "r2_score (dummy): -0.00\n",
      "r2_score (linear model): 0.06\n"
     ]
    },
    {
     "data": {
      "application/javascript": [
       "/* Put everything inside the global mpl namespace */\n",
       "window.mpl = {};\n",
       "\n",
       "\n",
       "mpl.get_websocket_type = function() {\n",
       "    if (typeof(WebSocket) !== 'undefined') {\n",
       "        return WebSocket;\n",
       "    } else if (typeof(MozWebSocket) !== 'undefined') {\n",
       "        return MozWebSocket;\n",
       "    } else {\n",
       "        alert('Your browser does not have WebSocket support. ' +\n",
       "              'Please try Chrome, Safari or Firefox ≥ 6. ' +\n",
       "              'Firefox 4 and 5 are also supported but you ' +\n",
       "              'have to enable WebSockets in about:config.');\n",
       "    };\n",
       "}\n",
       "\n",
       "mpl.figure = function(figure_id, websocket, ondownload, parent_element) {\n",
       "    this.id = figure_id;\n",
       "\n",
       "    this.ws = websocket;\n",
       "\n",
       "    this.supports_binary = (this.ws.binaryType != undefined);\n",
       "\n",
       "    if (!this.supports_binary) {\n",
       "        var warnings = document.getElementById(\"mpl-warnings\");\n",
       "        if (warnings) {\n",
       "            warnings.style.display = 'block';\n",
       "            warnings.textContent = (\n",
       "                \"This browser does not support binary websocket messages. \" +\n",
       "                    \"Performance may be slow.\");\n",
       "        }\n",
       "    }\n",
       "\n",
       "    this.imageObj = new Image();\n",
       "\n",
       "    this.context = undefined;\n",
       "    this.message = undefined;\n",
       "    this.canvas = undefined;\n",
       "    this.rubberband_canvas = undefined;\n",
       "    this.rubberband_context = undefined;\n",
       "    this.format_dropdown = undefined;\n",
       "\n",
       "    this.image_mode = 'full';\n",
       "\n",
       "    this.root = $('<div/>');\n",
       "    this._root_extra_style(this.root)\n",
       "    this.root.attr('style', 'display: inline-block');\n",
       "\n",
       "    $(parent_element).append(this.root);\n",
       "\n",
       "    this._init_header(this);\n",
       "    this._init_canvas(this);\n",
       "    this._init_toolbar(this);\n",
       "\n",
       "    var fig = this;\n",
       "\n",
       "    this.waiting = false;\n",
       "\n",
       "    this.ws.onopen =  function () {\n",
       "            fig.send_message(\"supports_binary\", {value: fig.supports_binary});\n",
       "            fig.send_message(\"send_image_mode\", {});\n",
       "            if (mpl.ratio != 1) {\n",
       "                fig.send_message(\"set_dpi_ratio\", {'dpi_ratio': mpl.ratio});\n",
       "            }\n",
       "            fig.send_message(\"refresh\", {});\n",
       "        }\n",
       "\n",
       "    this.imageObj.onload = function() {\n",
       "            if (fig.image_mode == 'full') {\n",
       "                // Full images could contain transparency (where diff images\n",
       "                // almost always do), so we need to clear the canvas so that\n",
       "                // there is no ghosting.\n",
       "                fig.context.clearRect(0, 0, fig.canvas.width, fig.canvas.height);\n",
       "            }\n",
       "            fig.context.drawImage(fig.imageObj, 0, 0);\n",
       "        };\n",
       "\n",
       "    this.imageObj.onunload = function() {\n",
       "        fig.ws.close();\n",
       "    }\n",
       "\n",
       "    this.ws.onmessage = this._make_on_message_function(this);\n",
       "\n",
       "    this.ondownload = ondownload;\n",
       "}\n",
       "\n",
       "mpl.figure.prototype._init_header = function() {\n",
       "    var titlebar = $(\n",
       "        '<div class=\"ui-dialog-titlebar ui-widget-header ui-corner-all ' +\n",
       "        'ui-helper-clearfix\"/>');\n",
       "    var titletext = $(\n",
       "        '<div class=\"ui-dialog-title\" style=\"width: 100%; ' +\n",
       "        'text-align: center; padding: 3px;\"/>');\n",
       "    titlebar.append(titletext)\n",
       "    this.root.append(titlebar);\n",
       "    this.header = titletext[0];\n",
       "}\n",
       "\n",
       "\n",
       "\n",
       "mpl.figure.prototype._canvas_extra_style = function(canvas_div) {\n",
       "\n",
       "}\n",
       "\n",
       "\n",
       "mpl.figure.prototype._root_extra_style = function(canvas_div) {\n",
       "\n",
       "}\n",
       "\n",
       "mpl.figure.prototype._init_canvas = function() {\n",
       "    var fig = this;\n",
       "\n",
       "    var canvas_div = $('<div/>');\n",
       "\n",
       "    canvas_div.attr('style', 'position: relative; clear: both; outline: 0');\n",
       "\n",
       "    function canvas_keyboard_event(event) {\n",
       "        return fig.key_event(event, event['data']);\n",
       "    }\n",
       "\n",
       "    canvas_div.keydown('key_press', canvas_keyboard_event);\n",
       "    canvas_div.keyup('key_release', canvas_keyboard_event);\n",
       "    this.canvas_div = canvas_div\n",
       "    this._canvas_extra_style(canvas_div)\n",
       "    this.root.append(canvas_div);\n",
       "\n",
       "    var canvas = $('<canvas/>');\n",
       "    canvas.addClass('mpl-canvas');\n",
       "    canvas.attr('style', \"left: 0; top: 0; z-index: 0; outline: 0\")\n",
       "\n",
       "    this.canvas = canvas[0];\n",
       "    this.context = canvas[0].getContext(\"2d\");\n",
       "\n",
       "    var backingStore = this.context.backingStorePixelRatio ||\n",
       "\tthis.context.webkitBackingStorePixelRatio ||\n",
       "\tthis.context.mozBackingStorePixelRatio ||\n",
       "\tthis.context.msBackingStorePixelRatio ||\n",
       "\tthis.context.oBackingStorePixelRatio ||\n",
       "\tthis.context.backingStorePixelRatio || 1;\n",
       "\n",
       "    mpl.ratio = (window.devicePixelRatio || 1) / backingStore;\n",
       "\n",
       "    var rubberband = $('<canvas/>');\n",
       "    rubberband.attr('style', \"position: absolute; left: 0; top: 0; z-index: 1;\")\n",
       "\n",
       "    var pass_mouse_events = true;\n",
       "\n",
       "    canvas_div.resizable({\n",
       "        start: function(event, ui) {\n",
       "            pass_mouse_events = false;\n",
       "        },\n",
       "        resize: function(event, ui) {\n",
       "            fig.request_resize(ui.size.width, ui.size.height);\n",
       "        },\n",
       "        stop: function(event, ui) {\n",
       "            pass_mouse_events = true;\n",
       "            fig.request_resize(ui.size.width, ui.size.height);\n",
       "        },\n",
       "    });\n",
       "\n",
       "    function mouse_event_fn(event) {\n",
       "        if (pass_mouse_events)\n",
       "            return fig.mouse_event(event, event['data']);\n",
       "    }\n",
       "\n",
       "    rubberband.mousedown('button_press', mouse_event_fn);\n",
       "    rubberband.mouseup('button_release', mouse_event_fn);\n",
       "    // Throttle sequential mouse events to 1 every 20ms.\n",
       "    rubberband.mousemove('motion_notify', mouse_event_fn);\n",
       "\n",
       "    rubberband.mouseenter('figure_enter', mouse_event_fn);\n",
       "    rubberband.mouseleave('figure_leave', mouse_event_fn);\n",
       "\n",
       "    canvas_div.on(\"wheel\", function (event) {\n",
       "        event = event.originalEvent;\n",
       "        event['data'] = 'scroll'\n",
       "        if (event.deltaY < 0) {\n",
       "            event.step = 1;\n",
       "        } else {\n",
       "            event.step = -1;\n",
       "        }\n",
       "        mouse_event_fn(event);\n",
       "    });\n",
       "\n",
       "    canvas_div.append(canvas);\n",
       "    canvas_div.append(rubberband);\n",
       "\n",
       "    this.rubberband = rubberband;\n",
       "    this.rubberband_canvas = rubberband[0];\n",
       "    this.rubberband_context = rubberband[0].getContext(\"2d\");\n",
       "    this.rubberband_context.strokeStyle = \"#000000\";\n",
       "\n",
       "    this._resize_canvas = function(width, height) {\n",
       "        // Keep the size of the canvas, canvas container, and rubber band\n",
       "        // canvas in synch.\n",
       "        canvas_div.css('width', width)\n",
       "        canvas_div.css('height', height)\n",
       "\n",
       "        canvas.attr('width', width * mpl.ratio);\n",
       "        canvas.attr('height', height * mpl.ratio);\n",
       "        canvas.attr('style', 'width: ' + width + 'px; height: ' + height + 'px;');\n",
       "\n",
       "        rubberband.attr('width', width);\n",
       "        rubberband.attr('height', height);\n",
       "    }\n",
       "\n",
       "    // Set the figure to an initial 600x600px, this will subsequently be updated\n",
       "    // upon first draw.\n",
       "    this._resize_canvas(600, 600);\n",
       "\n",
       "    // Disable right mouse context menu.\n",
       "    $(this.rubberband_canvas).bind(\"contextmenu\",function(e){\n",
       "        return false;\n",
       "    });\n",
       "\n",
       "    function set_focus () {\n",
       "        canvas.focus();\n",
       "        canvas_div.focus();\n",
       "    }\n",
       "\n",
       "    window.setTimeout(set_focus, 100);\n",
       "}\n",
       "\n",
       "mpl.figure.prototype._init_toolbar = function() {\n",
       "    var fig = this;\n",
       "\n",
       "    var nav_element = $('<div/>');\n",
       "    nav_element.attr('style', 'width: 100%');\n",
       "    this.root.append(nav_element);\n",
       "\n",
       "    // Define a callback function for later on.\n",
       "    function toolbar_event(event) {\n",
       "        return fig.toolbar_button_onclick(event['data']);\n",
       "    }\n",
       "    function toolbar_mouse_event(event) {\n",
       "        return fig.toolbar_button_onmouseover(event['data']);\n",
       "    }\n",
       "\n",
       "    for(var toolbar_ind in mpl.toolbar_items) {\n",
       "        var name = mpl.toolbar_items[toolbar_ind][0];\n",
       "        var tooltip = mpl.toolbar_items[toolbar_ind][1];\n",
       "        var image = mpl.toolbar_items[toolbar_ind][2];\n",
       "        var method_name = mpl.toolbar_items[toolbar_ind][3];\n",
       "\n",
       "        if (!name) {\n",
       "            // put a spacer in here.\n",
       "            continue;\n",
       "        }\n",
       "        var button = $('<button/>');\n",
       "        button.addClass('ui-button ui-widget ui-state-default ui-corner-all ' +\n",
       "                        'ui-button-icon-only');\n",
       "        button.attr('role', 'button');\n",
       "        button.attr('aria-disabled', 'false');\n",
       "        button.click(method_name, toolbar_event);\n",
       "        button.mouseover(tooltip, toolbar_mouse_event);\n",
       "\n",
       "        var icon_img = $('<span/>');\n",
       "        icon_img.addClass('ui-button-icon-primary ui-icon');\n",
       "        icon_img.addClass(image);\n",
       "        icon_img.addClass('ui-corner-all');\n",
       "\n",
       "        var tooltip_span = $('<span/>');\n",
       "        tooltip_span.addClass('ui-button-text');\n",
       "        tooltip_span.html(tooltip);\n",
       "\n",
       "        button.append(icon_img);\n",
       "        button.append(tooltip_span);\n",
       "\n",
       "        nav_element.append(button);\n",
       "    }\n",
       "\n",
       "    var fmt_picker_span = $('<span/>');\n",
       "\n",
       "    var fmt_picker = $('<select/>');\n",
       "    fmt_picker.addClass('mpl-toolbar-option ui-widget ui-widget-content');\n",
       "    fmt_picker_span.append(fmt_picker);\n",
       "    nav_element.append(fmt_picker_span);\n",
       "    this.format_dropdown = fmt_picker[0];\n",
       "\n",
       "    for (var ind in mpl.extensions) {\n",
       "        var fmt = mpl.extensions[ind];\n",
       "        var option = $(\n",
       "            '<option/>', {selected: fmt === mpl.default_extension}).html(fmt);\n",
       "        fmt_picker.append(option);\n",
       "    }\n",
       "\n",
       "    // Add hover states to the ui-buttons\n",
       "    $( \".ui-button\" ).hover(\n",
       "        function() { $(this).addClass(\"ui-state-hover\");},\n",
       "        function() { $(this).removeClass(\"ui-state-hover\");}\n",
       "    );\n",
       "\n",
       "    var status_bar = $('<span class=\"mpl-message\"/>');\n",
       "    nav_element.append(status_bar);\n",
       "    this.message = status_bar[0];\n",
       "}\n",
       "\n",
       "mpl.figure.prototype.request_resize = function(x_pixels, y_pixels) {\n",
       "    // Request matplotlib to resize the figure. Matplotlib will then trigger a resize in the client,\n",
       "    // which will in turn request a refresh of the image.\n",
       "    this.send_message('resize', {'width': x_pixels, 'height': y_pixels});\n",
       "}\n",
       "\n",
       "mpl.figure.prototype.send_message = function(type, properties) {\n",
       "    properties['type'] = type;\n",
       "    properties['figure_id'] = this.id;\n",
       "    this.ws.send(JSON.stringify(properties));\n",
       "}\n",
       "\n",
       "mpl.figure.prototype.send_draw_message = function() {\n",
       "    if (!this.waiting) {\n",
       "        this.waiting = true;\n",
       "        this.ws.send(JSON.stringify({type: \"draw\", figure_id: this.id}));\n",
       "    }\n",
       "}\n",
       "\n",
       "\n",
       "mpl.figure.prototype.handle_save = function(fig, msg) {\n",
       "    var format_dropdown = fig.format_dropdown;\n",
       "    var format = format_dropdown.options[format_dropdown.selectedIndex].value;\n",
       "    fig.ondownload(fig, format);\n",
       "}\n",
       "\n",
       "\n",
       "mpl.figure.prototype.handle_resize = function(fig, msg) {\n",
       "    var size = msg['size'];\n",
       "    if (size[0] != fig.canvas.width || size[1] != fig.canvas.height) {\n",
       "        fig._resize_canvas(size[0], size[1]);\n",
       "        fig.send_message(\"refresh\", {});\n",
       "    };\n",
       "}\n",
       "\n",
       "mpl.figure.prototype.handle_rubberband = function(fig, msg) {\n",
       "    var x0 = msg['x0'] / mpl.ratio;\n",
       "    var y0 = (fig.canvas.height - msg['y0']) / mpl.ratio;\n",
       "    var x1 = msg['x1'] / mpl.ratio;\n",
       "    var y1 = (fig.canvas.height - msg['y1']) / mpl.ratio;\n",
       "    x0 = Math.floor(x0) + 0.5;\n",
       "    y0 = Math.floor(y0) + 0.5;\n",
       "    x1 = Math.floor(x1) + 0.5;\n",
       "    y1 = Math.floor(y1) + 0.5;\n",
       "    var min_x = Math.min(x0, x1);\n",
       "    var min_y = Math.min(y0, y1);\n",
       "    var width = Math.abs(x1 - x0);\n",
       "    var height = Math.abs(y1 - y0);\n",
       "\n",
       "    fig.rubberband_context.clearRect(\n",
       "        0, 0, fig.canvas.width / mpl.ratio, fig.canvas.height / mpl.ratio);\n",
       "\n",
       "    fig.rubberband_context.strokeRect(min_x, min_y, width, height);\n",
       "}\n",
       "\n",
       "mpl.figure.prototype.handle_figure_label = function(fig, msg) {\n",
       "    // Updates the figure title.\n",
       "    fig.header.textContent = msg['label'];\n",
       "}\n",
       "\n",
       "mpl.figure.prototype.handle_cursor = function(fig, msg) {\n",
       "    var cursor = msg['cursor'];\n",
       "    switch(cursor)\n",
       "    {\n",
       "    case 0:\n",
       "        cursor = 'pointer';\n",
       "        break;\n",
       "    case 1:\n",
       "        cursor = 'default';\n",
       "        break;\n",
       "    case 2:\n",
       "        cursor = 'crosshair';\n",
       "        break;\n",
       "    case 3:\n",
       "        cursor = 'move';\n",
       "        break;\n",
       "    }\n",
       "    fig.rubberband_canvas.style.cursor = cursor;\n",
       "}\n",
       "\n",
       "mpl.figure.prototype.handle_message = function(fig, msg) {\n",
       "    fig.message.textContent = msg['message'];\n",
       "}\n",
       "\n",
       "mpl.figure.prototype.handle_draw = function(fig, msg) {\n",
       "    // Request the server to send over a new figure.\n",
       "    fig.send_draw_message();\n",
       "}\n",
       "\n",
       "mpl.figure.prototype.handle_image_mode = function(fig, msg) {\n",
       "    fig.image_mode = msg['mode'];\n",
       "}\n",
       "\n",
       "mpl.figure.prototype.updated_canvas_event = function() {\n",
       "    // Called whenever the canvas gets updated.\n",
       "    this.send_message(\"ack\", {});\n",
       "}\n",
       "\n",
       "// A function to construct a web socket function for onmessage handling.\n",
       "// Called in the figure constructor.\n",
       "mpl.figure.prototype._make_on_message_function = function(fig) {\n",
       "    return function socket_on_message(evt) {\n",
       "        if (evt.data instanceof Blob) {\n",
       "            /* FIXME: We get \"Resource interpreted as Image but\n",
       "             * transferred with MIME type text/plain:\" errors on\n",
       "             * Chrome.  But how to set the MIME type?  It doesn't seem\n",
       "             * to be part of the websocket stream */\n",
       "            evt.data.type = \"image/png\";\n",
       "\n",
       "            /* Free the memory for the previous frames */\n",
       "            if (fig.imageObj.src) {\n",
       "                (window.URL || window.webkitURL).revokeObjectURL(\n",
       "                    fig.imageObj.src);\n",
       "            }\n",
       "\n",
       "            fig.imageObj.src = (window.URL || window.webkitURL).createObjectURL(\n",
       "                evt.data);\n",
       "            fig.updated_canvas_event();\n",
       "            fig.waiting = false;\n",
       "            return;\n",
       "        }\n",
       "        else if (typeof evt.data === 'string' && evt.data.slice(0, 21) == \"data:image/png;base64\") {\n",
       "            fig.imageObj.src = evt.data;\n",
       "            fig.updated_canvas_event();\n",
       "            fig.waiting = false;\n",
       "            return;\n",
       "        }\n",
       "\n",
       "        var msg = JSON.parse(evt.data);\n",
       "        var msg_type = msg['type'];\n",
       "\n",
       "        // Call the  \"handle_{type}\" callback, which takes\n",
       "        // the figure and JSON message as its only arguments.\n",
       "        try {\n",
       "            var callback = fig[\"handle_\" + msg_type];\n",
       "        } catch (e) {\n",
       "            console.log(\"No handler for the '\" + msg_type + \"' message type: \", msg);\n",
       "            return;\n",
       "        }\n",
       "\n",
       "        if (callback) {\n",
       "            try {\n",
       "                // console.log(\"Handling '\" + msg_type + \"' message: \", msg);\n",
       "                callback(fig, msg);\n",
       "            } catch (e) {\n",
       "                console.log(\"Exception inside the 'handler_\" + msg_type + \"' callback:\", e, e.stack, msg);\n",
       "            }\n",
       "        }\n",
       "    };\n",
       "}\n",
       "\n",
       "// from http://stackoverflow.com/questions/1114465/getting-mouse-location-in-canvas\n",
       "mpl.findpos = function(e) {\n",
       "    //this section is from http://www.quirksmode.org/js/events_properties.html\n",
       "    var targ;\n",
       "    if (!e)\n",
       "        e = window.event;\n",
       "    if (e.target)\n",
       "        targ = e.target;\n",
       "    else if (e.srcElement)\n",
       "        targ = e.srcElement;\n",
       "    if (targ.nodeType == 3) // defeat Safari bug\n",
       "        targ = targ.parentNode;\n",
       "\n",
       "    // jQuery normalizes the pageX and pageY\n",
       "    // pageX,Y are the mouse positions relative to the document\n",
       "    // offset() returns the position of the element relative to the document\n",
       "    var x = e.pageX - $(targ).offset().left;\n",
       "    var y = e.pageY - $(targ).offset().top;\n",
       "\n",
       "    return {\"x\": x, \"y\": y};\n",
       "};\n",
       "\n",
       "/*\n",
       " * return a copy of an object with only non-object keys\n",
       " * we need this to avoid circular references\n",
       " * http://stackoverflow.com/a/24161582/3208463\n",
       " */\n",
       "function simpleKeys (original) {\n",
       "  return Object.keys(original).reduce(function (obj, key) {\n",
       "    if (typeof original[key] !== 'object')\n",
       "        obj[key] = original[key]\n",
       "    return obj;\n",
       "  }, {});\n",
       "}\n",
       "\n",
       "mpl.figure.prototype.mouse_event = function(event, name) {\n",
       "    var canvas_pos = mpl.findpos(event)\n",
       "\n",
       "    if (name === 'button_press')\n",
       "    {\n",
       "        this.canvas.focus();\n",
       "        this.canvas_div.focus();\n",
       "    }\n",
       "\n",
       "    var x = canvas_pos.x * mpl.ratio;\n",
       "    var y = canvas_pos.y * mpl.ratio;\n",
       "\n",
       "    this.send_message(name, {x: x, y: y, button: event.button,\n",
       "                             step: event.step,\n",
       "                             guiEvent: simpleKeys(event)});\n",
       "\n",
       "    /* This prevents the web browser from automatically changing to\n",
       "     * the text insertion cursor when the button is pressed.  We want\n",
       "     * to control all of the cursor setting manually through the\n",
       "     * 'cursor' event from matplotlib */\n",
       "    event.preventDefault();\n",
       "    return false;\n",
       "}\n",
       "\n",
       "mpl.figure.prototype._key_event_extra = function(event, name) {\n",
       "    // Handle any extra behaviour associated with a key event\n",
       "}\n",
       "\n",
       "mpl.figure.prototype.key_event = function(event, name) {\n",
       "\n",
       "    // Prevent repeat events\n",
       "    if (name == 'key_press')\n",
       "    {\n",
       "        if (event.which === this._key)\n",
       "            return;\n",
       "        else\n",
       "            this._key = event.which;\n",
       "    }\n",
       "    if (name == 'key_release')\n",
       "        this._key = null;\n",
       "\n",
       "    var value = '';\n",
       "    if (event.ctrlKey && event.which != 17)\n",
       "        value += \"ctrl+\";\n",
       "    if (event.altKey && event.which != 18)\n",
       "        value += \"alt+\";\n",
       "    if (event.shiftKey && event.which != 16)\n",
       "        value += \"shift+\";\n",
       "\n",
       "    value += 'k';\n",
       "    value += event.which.toString();\n",
       "\n",
       "    this._key_event_extra(event, name);\n",
       "\n",
       "    this.send_message(name, {key: value,\n",
       "                             guiEvent: simpleKeys(event)});\n",
       "    return false;\n",
       "}\n",
       "\n",
       "mpl.figure.prototype.toolbar_button_onclick = function(name) {\n",
       "    if (name == 'download') {\n",
       "        this.handle_save(this, null);\n",
       "    } else {\n",
       "        this.send_message(\"toolbar_button\", {name: name});\n",
       "    }\n",
       "};\n",
       "\n",
       "mpl.figure.prototype.toolbar_button_onmouseover = function(tooltip) {\n",
       "    this.message.textContent = tooltip;\n",
       "};\n",
       "mpl.toolbar_items = [[\"Home\", \"Reset original view\", \"fa fa-home icon-home\", \"home\"], [\"Back\", \"Back to previous view\", \"fa fa-arrow-left icon-arrow-left\", \"back\"], [\"Forward\", \"Forward to next view\", \"fa fa-arrow-right icon-arrow-right\", \"forward\"], [\"\", \"\", \"\", \"\"], [\"Pan\", \"Pan axes with left mouse, zoom with right\", \"fa fa-arrows icon-move\", \"pan\"], [\"Zoom\", \"Zoom to rectangle\", \"fa fa-square-o icon-check-empty\", \"zoom\"], [\"\", \"\", \"\", \"\"], [\"Download\", \"Download plot\", \"fa fa-floppy-o icon-save\", \"download\"]];\n",
       "\n",
       "mpl.extensions = [\"eps\", \"jpeg\", \"pdf\", \"png\", \"ps\", \"raw\", \"svg\", \"tif\"];\n",
       "\n",
       "mpl.default_extension = \"png\";var comm_websocket_adapter = function(comm) {\n",
       "    // Create a \"websocket\"-like object which calls the given IPython comm\n",
       "    // object with the appropriate methods. Currently this is a non binary\n",
       "    // socket, so there is still some room for performance tuning.\n",
       "    var ws = {};\n",
       "\n",
       "    ws.close = function() {\n",
       "        comm.close()\n",
       "    };\n",
       "    ws.send = function(m) {\n",
       "        //console.log('sending', m);\n",
       "        comm.send(m);\n",
       "    };\n",
       "    // Register the callback with on_msg.\n",
       "    comm.on_msg(function(msg) {\n",
       "        //console.log('receiving', msg['content']['data'], msg);\n",
       "        // Pass the mpl event to the overridden (by mpl) onmessage function.\n",
       "        ws.onmessage(msg['content']['data'])\n",
       "    });\n",
       "    return ws;\n",
       "}\n",
       "\n",
       "mpl.mpl_figure_comm = function(comm, msg) {\n",
       "    // This is the function which gets called when the mpl process\n",
       "    // starts-up an IPython Comm through the \"matplotlib\" channel.\n",
       "\n",
       "    var id = msg.content.data.id;\n",
       "    // Get hold of the div created by the display call when the Comm\n",
       "    // socket was opened in Python.\n",
       "    var element = $(\"#\" + id);\n",
       "    var ws_proxy = comm_websocket_adapter(comm)\n",
       "\n",
       "    function ondownload(figure, format) {\n",
       "        window.open(figure.imageObj.src);\n",
       "    }\n",
       "\n",
       "    var fig = new mpl.figure(id, ws_proxy,\n",
       "                           ondownload,\n",
       "                           element.get(0));\n",
       "\n",
       "    // Call onopen now - mpl needs it, as it is assuming we've passed it a real\n",
       "    // web socket which is closed, not our websocket->open comm proxy.\n",
       "    ws_proxy.onopen();\n",
       "\n",
       "    fig.parent_element = element.get(0);\n",
       "    fig.cell_info = mpl.find_output_cell(\"<div id='\" + id + \"'></div>\");\n",
       "    if (!fig.cell_info) {\n",
       "        console.error(\"Failed to find cell for figure\", id, fig);\n",
       "        return;\n",
       "    }\n",
       "\n",
       "    var output_index = fig.cell_info[2]\n",
       "    var cell = fig.cell_info[0];\n",
       "\n",
       "};\n",
       "\n",
       "mpl.figure.prototype.handle_close = function(fig, msg) {\n",
       "    var width = fig.canvas.width/mpl.ratio\n",
       "    fig.root.unbind('remove')\n",
       "\n",
       "    // Update the output cell to use the data from the current canvas.\n",
       "    fig.push_to_output();\n",
       "    var dataURL = fig.canvas.toDataURL();\n",
       "    // Re-enable the keyboard manager in IPython - without this line, in FF,\n",
       "    // the notebook keyboard shortcuts fail.\n",
       "    IPython.keyboard_manager.enable()\n",
       "    $(fig.parent_element).html('<img src=\"' + dataURL + '\" width=\"' + width + '\">');\n",
       "    fig.close_ws(fig, msg);\n",
       "}\n",
       "\n",
       "mpl.figure.prototype.close_ws = function(fig, msg){\n",
       "    fig.send_message('closing', msg);\n",
       "    // fig.ws.close()\n",
       "}\n",
       "\n",
       "mpl.figure.prototype.push_to_output = function(remove_interactive) {\n",
       "    // Turn the data on the canvas into data in the output cell.\n",
       "    var width = this.canvas.width/mpl.ratio\n",
       "    var dataURL = this.canvas.toDataURL();\n",
       "    this.cell_info[1]['text/html'] = '<img src=\"' + dataURL + '\" width=\"' + width + '\">';\n",
       "}\n",
       "\n",
       "mpl.figure.prototype.updated_canvas_event = function() {\n",
       "    // Tell IPython that the notebook contents must change.\n",
       "    IPython.notebook.set_dirty(true);\n",
       "    this.send_message(\"ack\", {});\n",
       "    var fig = this;\n",
       "    // Wait a second, then push the new image to the DOM so\n",
       "    // that it is saved nicely (might be nice to debounce this).\n",
       "    setTimeout(function () { fig.push_to_output() }, 1000);\n",
       "}\n",
       "\n",
       "mpl.figure.prototype._init_toolbar = function() {\n",
       "    var fig = this;\n",
       "\n",
       "    var nav_element = $('<div/>');\n",
       "    nav_element.attr('style', 'width: 100%');\n",
       "    this.root.append(nav_element);\n",
       "\n",
       "    // Define a callback function for later on.\n",
       "    function toolbar_event(event) {\n",
       "        return fig.toolbar_button_onclick(event['data']);\n",
       "    }\n",
       "    function toolbar_mouse_event(event) {\n",
       "        return fig.toolbar_button_onmouseover(event['data']);\n",
       "    }\n",
       "\n",
       "    for(var toolbar_ind in mpl.toolbar_items){\n",
       "        var name = mpl.toolbar_items[toolbar_ind][0];\n",
       "        var tooltip = mpl.toolbar_items[toolbar_ind][1];\n",
       "        var image = mpl.toolbar_items[toolbar_ind][2];\n",
       "        var method_name = mpl.toolbar_items[toolbar_ind][3];\n",
       "\n",
       "        if (!name) { continue; };\n",
       "\n",
       "        var button = $('<button class=\"btn btn-default\" href=\"#\" title=\"' + name + '\"><i class=\"fa ' + image + ' fa-lg\"></i></button>');\n",
       "        button.click(method_name, toolbar_event);\n",
       "        button.mouseover(tooltip, toolbar_mouse_event);\n",
       "        nav_element.append(button);\n",
       "    }\n",
       "\n",
       "    // Add the status bar.\n",
       "    var status_bar = $('<span class=\"mpl-message\" style=\"text-align:right; float: right;\"/>');\n",
       "    nav_element.append(status_bar);\n",
       "    this.message = status_bar[0];\n",
       "\n",
       "    // Add the close button to the window.\n",
       "    var buttongrp = $('<div class=\"btn-group inline pull-right\"></div>');\n",
       "    var button = $('<button class=\"btn btn-mini btn-primary\" href=\"#\" title=\"Stop Interaction\"><i class=\"fa fa-power-off icon-remove icon-large\"></i></button>');\n",
       "    button.click(function (evt) { fig.handle_close(fig, {}); } );\n",
       "    button.mouseover('Stop Interaction', toolbar_mouse_event);\n",
       "    buttongrp.append(button);\n",
       "    var titlebar = this.root.find($('.ui-dialog-titlebar'));\n",
       "    titlebar.prepend(buttongrp);\n",
       "}\n",
       "\n",
       "mpl.figure.prototype._root_extra_style = function(el){\n",
       "    var fig = this\n",
       "    el.on(\"remove\", function(){\n",
       "\tfig.close_ws(fig, {});\n",
       "    });\n",
       "}\n",
       "\n",
       "mpl.figure.prototype._canvas_extra_style = function(el){\n",
       "    // this is important to make the div 'focusable\n",
       "    el.attr('tabindex', 0)\n",
       "    // reach out to IPython and tell the keyboard manager to turn it's self\n",
       "    // off when our div gets focus\n",
       "\n",
       "    // location in version 3\n",
       "    if (IPython.notebook.keyboard_manager) {\n",
       "        IPython.notebook.keyboard_manager.register_events(el);\n",
       "    }\n",
       "    else {\n",
       "        // location in version 2\n",
       "        IPython.keyboard_manager.register_events(el);\n",
       "    }\n",
       "\n",
       "}\n",
       "\n",
       "mpl.figure.prototype._key_event_extra = function(event, name) {\n",
       "    var manager = IPython.notebook.keyboard_manager;\n",
       "    if (!manager)\n",
       "        manager = IPython.keyboard_manager;\n",
       "\n",
       "    // Check for shift+enter\n",
       "    if (event.shiftKey && event.which == 13) {\n",
       "        this.canvas_div.blur();\n",
       "        // select the cell after this one\n",
       "        var index = IPython.notebook.find_cell_index(this.cell_info[0]);\n",
       "        IPython.notebook.select(index + 1);\n",
       "    }\n",
       "}\n",
       "\n",
       "mpl.figure.prototype.handle_save = function(fig, msg) {\n",
       "    fig.ondownload(fig, null);\n",
       "}\n",
       "\n",
       "\n",
       "mpl.find_output_cell = function(html_output) {\n",
       "    // Return the cell and output element which can be found *uniquely* in the notebook.\n",
       "    // Note - this is a bit hacky, but it is done because the \"notebook_saving.Notebook\"\n",
       "    // IPython event is triggered only after the cells have been serialised, which for\n",
       "    // our purposes (turning an active figure into a static one), is too late.\n",
       "    var cells = IPython.notebook.get_cells();\n",
       "    var ncells = cells.length;\n",
       "    for (var i=0; i<ncells; i++) {\n",
       "        var cell = cells[i];\n",
       "        if (cell.cell_type === 'code'){\n",
       "            for (var j=0; j<cell.output_area.outputs.length; j++) {\n",
       "                var data = cell.output_area.outputs[j];\n",
       "                if (data.data) {\n",
       "                    // IPython >= 3 moved mimebundle to data attribute of output\n",
       "                    data = data.data;\n",
       "                }\n",
       "                if (data['text/html'] == html_output) {\n",
       "                    return [cell, data, j];\n",
       "                }\n",
       "            }\n",
       "        }\n",
       "    }\n",
       "}\n",
       "\n",
       "// Register the function which deals with the matplotlib target/channel.\n",
       "// The kernel may be null if the page has been refreshed.\n",
       "if (IPython.notebook.kernel != null) {\n",
       "    IPython.notebook.kernel.comm_manager.register_target('matplotlib', mpl.mpl_figure_comm);\n",
       "}\n"
      ],
      "text/plain": [
       "<IPython.core.display.Javascript object>"
      ]
     },
     "metadata": {},
     "output_type": "display_data"
    },
    {
     "data": {
      "text/html": [
       "<img src=\"data:image/png;base64,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\" width=\"640\">"
      ],
      "text/plain": [
       "<IPython.core.display.HTML object>"
      ]
     },
     "metadata": {},
     "output_type": "display_data"
    }
   ],
   "source": [
    "%matplotlib notebook\n",
    "import matplotlib.pyplot as plt\n",
    "import numpy as np\n",
    "from sklearn.model_selection import train_test_split\n",
    "from sklearn import datasets\n",
    "from sklearn.linear_model import LinearRegression\n",
    "from sklearn.metrics import mean_squared_error, r2_score\n",
    "from sklearn.dummy import DummyRegressor\n",
    "\n",
    "diabetes = datasets.load_diabetes()\n",
    "\n",
    "X = diabetes.data[:, None, 6]\n",
    "y = diabetes.target\n",
    "\n",
    "X_train, X_test, y_train, y_test = train_test_split(X, y, random_state=0)\n",
    "\n",
    "lm = LinearRegression().fit(X_train, y_train)\n",
    "lm_dummy_mean = DummyRegressor(strategy = 'mean').fit(X_train, y_train)\n",
    "\n",
    "y_predict = lm.predict(X_test)\n",
    "y_predict_dummy_mean = lm_dummy_mean.predict(X_test)\n",
    "\n",
    "print('Linear model, coefficients: ', lm.coef_)\n",
    "print(\"Mean squared error (dummy): {:.2f}\".format(mean_squared_error(y_test, \n",
    "                                                                     y_predict_dummy_mean)))\n",
    "print(\"Mean squared error (linear model): {:.2f}\".format(mean_squared_error(y_test, y_predict)))\n",
    "print(\"r2_score (dummy): {:.2f}\".format(r2_score(y_test, y_predict_dummy_mean)))\n",
    "print(\"r2_score (linear model): {:.2f}\".format(r2_score(y_test, y_predict)))\n",
    "\n",
    "# Plot outputs\n",
    "plt.scatter(X_test, y_test,  color='black')\n",
    "plt.plot(X_test, y_predict, color='green', linewidth=2)\n",
    "plt.plot(X_test, y_predict_dummy_mean, color='red', linestyle = 'dashed', \n",
    "         linewidth=2, label = 'dummy')\n",
    "\n",
    "plt.show()"
   ]
  }
 ],
 "metadata": {
  "anaconda-cloud": {},
  "kernelspec": {
   "display_name": "Python 3",
   "language": "python",
   "name": "python3"
  },
  "language_info": {
   "codemirror_mode": {
    "name": "ipython",
    "version": 3
   },
   "file_extension": ".py",
   "mimetype": "text/x-python",
   "name": "python",
   "nbconvert_exporter": "python",
   "pygments_lexer": "ipython3",
   "version": "3.7.6"
  }
 },
 "nbformat": 4,
 "nbformat_minor": 1
}
