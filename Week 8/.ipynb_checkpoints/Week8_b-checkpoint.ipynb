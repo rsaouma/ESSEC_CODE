{
 "cells": [
  {
   "cell_type": "markdown",
   "metadata": {
    "collapsed": true
   },
   "source": [
    "# Week 8\n"
   ]
  },
  {
   "cell_type": "markdown",
   "metadata": {},
   "source": [
    "## Evaluation for Classification"
   ]
  },
  {
   "cell_type": "markdown",
   "metadata": {},
   "source": [
    "Data Set Information:\n",
    "\n",
    "We used preprocessing programs made available by NIST to extract normalized bitmaps of handwritten digits from a preprinted form. From a total of 43 people, 30 contributed to the training set and different 13 to the test set. 32x32 bitmaps are divided into nonoverlapping blocks of 4x4 and the number of on pixels are counted in each block. This generates an input matrix of 8x8 where each element is an integer in the range 0..16. This reduces dimensionality and gives invariance to small distortions.\n",
    "\n",
    "For info on NIST preprocessing routines, see M. D. Garris, J. L. Blue, G. T. Candela, D. L. Dimmick, J. Geist, P. J. Grother, S. A. Janet, and C. L. Wilson, NIST Form-Based Handprint Recognition System, NISTIR 5469, 1994.\n",
    "\n",
    "\n",
    "https://archive.ics.uci.edu/ml/datasets/Optical+Recognition+of+Handwritten+Digits"
   ]
  },
  {
   "cell_type": "markdown",
   "metadata": {},
   "source": [
    "### Preamble"
   ]
  },
  {
   "cell_type": "code",
   "execution_count": 7,
   "metadata": {},
   "outputs": [
    {
     "name": "stdout",
     "output_type": "stream",
     "text": [
      "0 178\n",
      "1 182\n",
      "2 177\n",
      "3 183\n",
      "4 181\n",
      "5 182\n",
      "6 181\n",
      "7 179\n",
      "8 174\n",
      "9 180\n"
     ]
    }
   ],
   "source": [
    "%matplotlib notebook\n",
    "import numpy as np\n",
    "import pandas as pd\n",
    "import seaborn as sns\n",
    "import matplotlib.pyplot as plt\n",
    "from sklearn.model_selection import train_test_split\n",
    "from sklearn.datasets import load_digits\n",
    "\n",
    "dataset = load_digits()\n",
    "X, y = dataset.data, dataset.target\n",
    "\n",
    "for class_name, class_count in zip(dataset.target_names, np.bincount(dataset.target)):\n",
    "    print(class_name,class_count)"
   ]
  },
  {
   "cell_type": "code",
   "execution_count": 6,
   "metadata": {},
   "outputs": [
    {
     "data": {
      "text/plain": [
       "(64,)"
      ]
     },
     "execution_count": 6,
     "metadata": {},
     "output_type": "execute_result"
    }
   ],
   "source": [
    "X[1].shape"
   ]
  },
  {
   "cell_type": "code",
   "execution_count": 23,
   "metadata": {},
   "outputs": [
    {
     "data": {
      "text/plain": [
       "(1797,)"
      ]
     },
     "execution_count": 23,
     "metadata": {},
     "output_type": "execute_result"
    }
   ],
   "source": [
    "(dataset.target.shape)"
   ]
  },
  {
   "cell_type": "code",
   "execution_count": 8,
   "metadata": {},
   "outputs": [
    {
     "name": "stdout",
     "output_type": "stream",
     "text": [
      "Original labels:\t [1 2 3 4 5 6 7 8 9 0 1 2 3 4 5 6 7 8 9 0 1 2 3 4 5 6 7 8 9]\n",
      "New binary labels:\t [1 0 0 0 0 0 0 0 0 0 1 0 0 0 0 0 0 0 0 0 1 0 0 0 0 0 0 0 0]\n"
     ]
    }
   ],
   "source": [
    "# Creating a dataset with imbalanced binary classes:  \n",
    "# Negative class (0) is 'not digit 1' \n",
    "# Positive class (1) is 'digit 1'\n",
    "y_binary_imbalanced = y.copy()\n",
    "y_binary_imbalanced[y_binary_imbalanced != 1] = 0\n",
    "\n",
    "print('Original labels:\\t', y[1:30])\n",
    "print('New binary labels:\\t', y_binary_imbalanced[1:30])"
   ]
  },
  {
   "cell_type": "code",
   "execution_count": 9,
   "metadata": {
    "scrolled": true
   },
   "outputs": [
    {
     "data": {
      "text/plain": [
       "array([1615,  182])"
      ]
     },
     "execution_count": 9,
     "metadata": {},
     "output_type": "execute_result"
    }
   ],
   "source": [
    "np.bincount(y_binary_imbalanced)    # Negative class (0) is the most frequent class"
   ]
  },
  {
   "cell_type": "code",
   "execution_count": 11,
   "metadata": {},
   "outputs": [
    {
     "name": "stderr",
     "output_type": "stream",
     "text": [
      "/Users/ramzisaouma/anaconda3/lib/python3.7/site-packages/sklearn/svm/base.py:196: FutureWarning: The default value of gamma will change from 'auto' to 'scale' in version 0.22 to account better for unscaled features. Set gamma explicitly to 'auto' or 'scale' to avoid this warning.\n",
      "  \"avoid this warning.\", FutureWarning)\n"
     ]
    },
    {
     "data": {
      "text/plain": [
       "0.9088888888888889"
      ]
     },
     "execution_count": 11,
     "metadata": {},
     "output_type": "execute_result"
    }
   ],
   "source": [
    "X_train, X_test, y_train, y_test = train_test_split(X, y_binary_imbalanced, random_state=0)\n",
    "# Radial Basis Function\n",
    "# Accuracy of Support Vector Machine classifier\n",
    "from sklearn.svm import SVC\n",
    "\n",
    "svm = SVC(kernel='rbf', C=1).fit(X_train, y_train)\n",
    "svm.score(X_test, y_test)"
   ]
  },
  {
   "cell_type": "markdown",
   "metadata": {},
   "source": [
    "### Dummy Classifiers"
   ]
  },
  {
   "cell_type": "markdown",
   "metadata": {
    "collapsed": true
   },
   "source": [
    "DummyClassifier is a classifier that makes predictions using simple rules, which can be useful as a baseline for comparison against actual classifiers, especially with imbalanced classes."
   ]
  },
  {
   "cell_type": "code",
   "execution_count": 27,
   "metadata": {},
   "outputs": [
    {
     "data": {
      "text/plain": [
       "array([0, 0, 0, 0, 0, 0, 0, 0, 0, 0, 0, 0, 0, 0, 0, 0, 0, 0, 0, 0, 0, 0,\n",
       "       0, 0, 0, 0, 0, 0, 0, 0, 0, 0, 0, 0, 0, 0, 0, 0, 0, 0, 0, 0, 0, 0,\n",
       "       0, 0, 0, 0, 0, 0, 0, 0, 0, 0, 0, 0, 0, 0, 0, 0, 0, 0, 0, 0, 0, 0,\n",
       "       0, 0, 0, 0, 0, 0, 0, 0, 0, 0, 0, 0, 0, 0, 0, 0, 0, 0, 0, 0, 0, 0,\n",
       "       0, 0, 0, 0, 0, 0, 0, 0, 0, 0, 0, 0, 0, 0, 0, 0, 0, 0, 0, 0, 0, 0,\n",
       "       0, 0, 0, 0, 0, 0, 0, 0, 0, 0, 0, 0, 0, 0, 0, 0, 0, 0, 0, 0, 0, 0,\n",
       "       0, 0, 0, 0, 0, 0, 0, 0, 0, 0, 0, 0, 0, 0, 0, 0, 0, 0, 0, 0, 0, 0,\n",
       "       0, 0, 0, 0, 0, 0, 0, 0, 0, 0, 0, 0, 0, 0, 0, 0, 0, 0, 0, 0, 0, 0,\n",
       "       0, 0, 0, 0, 0, 0, 0, 0, 0, 0, 0, 0, 0, 0, 0, 0, 0, 0, 0, 0, 0, 0,\n",
       "       0, 0, 0, 0, 0, 0, 0, 0, 0, 0, 0, 0, 0, 0, 0, 0, 0, 0, 0, 0, 0, 0,\n",
       "       0, 0, 0, 0, 0, 0, 0, 0, 0, 0, 0, 0, 0, 0, 0, 0, 0, 0, 0, 0, 0, 0,\n",
       "       0, 0, 0, 0, 0, 0, 0, 0, 0, 0, 0, 0, 0, 0, 0, 0, 0, 0, 0, 0, 0, 0,\n",
       "       0, 0, 0, 0, 0, 0, 0, 0, 0, 0, 0, 0, 0, 0, 0, 0, 0, 0, 0, 0, 0, 0,\n",
       "       0, 0, 0, 0, 0, 0, 0, 0, 0, 0, 0, 0, 0, 0, 0, 0, 0, 0, 0, 0, 0, 0,\n",
       "       0, 0, 0, 0, 0, 0, 0, 0, 0, 0, 0, 0, 0, 0, 0, 0, 0, 0, 0, 0, 0, 0,\n",
       "       0, 0, 0, 0, 0, 0, 0, 0, 0, 0, 0, 0, 0, 0, 0, 0, 0, 0, 0, 0, 0, 0,\n",
       "       0, 0, 0, 0, 0, 0, 0, 0, 0, 0, 0, 0, 0, 0, 0, 0, 0, 0, 0, 0, 0, 0,\n",
       "       0, 0, 0, 0, 0, 0, 0, 0, 0, 0, 0, 0, 0, 0, 0, 0, 0, 0, 0, 0, 0, 0,\n",
       "       0, 0, 0, 0, 0, 0, 0, 0, 0, 0, 0, 0, 0, 0, 0, 0, 0, 0, 0, 0, 0, 0,\n",
       "       0, 0, 0, 0, 0, 0, 0, 0, 0, 0, 0, 0, 0, 0, 0, 0, 0, 0, 0, 0, 0, 0,\n",
       "       0, 0, 0, 0, 0, 0, 0, 0, 0, 0])"
      ]
     },
     "execution_count": 27,
     "metadata": {},
     "output_type": "execute_result"
    }
   ],
   "source": [
    "from sklearn.dummy import DummyClassifier\n",
    "\n",
    "# Negative class (0) is most frequent\n",
    "dummy_majority = DummyClassifier(strategy = 'most_frequent').fit(X_train, y_train)\n",
    "# Therefore the dummy 'most_frequent' classifier always predicts class 0\n",
    "y_dummy_predictions = dummy_majority.predict(X_test)\n",
    "\n",
    "y_dummy_predictions"
   ]
  },
  {
   "cell_type": "code",
   "execution_count": 28,
   "metadata": {},
   "outputs": [
    {
     "data": {
      "text/plain": [
       "0.9044444444444445"
      ]
     },
     "execution_count": 28,
     "metadata": {},
     "output_type": "execute_result"
    }
   ],
   "source": [
    "dummy_majority.score(X_test, y_test)"
   ]
  },
  {
   "cell_type": "code",
   "execution_count": 29,
   "metadata": {},
   "outputs": [
    {
     "data": {
      "text/plain": [
       "0.9777777777777777"
      ]
     },
     "execution_count": 29,
     "metadata": {},
     "output_type": "execute_result"
    }
   ],
   "source": [
    "svm = SVC(kernel='linear', C=1).fit(X_train, y_train)\n",
    "svm.score(X_test, y_test)"
   ]
  },
  {
   "cell_type": "markdown",
   "metadata": {},
   "source": [
    "### Confusion matrices"
   ]
  },
  {
   "cell_type": "markdown",
   "metadata": {},
   "source": [
    "#### Binary (two-class) confusion matrix"
   ]
  },
  {
   "cell_type": "code",
   "execution_count": 30,
   "metadata": {},
   "outputs": [
    {
     "name": "stdout",
     "output_type": "stream",
     "text": [
      "Most frequent class (dummy classifier)\n",
      " [[407   0]\n",
      " [ 43   0]]\n"
     ]
    }
   ],
   "source": [
    "from sklearn.metrics import confusion_matrix\n",
    "\n",
    "# Negative class (0) is most frequent\n",
    "dummy_majority = DummyClassifier(strategy = 'most_frequent').fit(X_train, y_train)\n",
    "y_majority_predicted = dummy_majority.predict(X_test)\n",
    "confusion = confusion_matrix(y_test, y_majority_predicted)\n",
    "\n",
    "print('Most frequent class (dummy classifier)\\n', confusion)"
   ]
  },
  {
   "cell_type": "code",
   "execution_count": 31,
   "metadata": {},
   "outputs": [
    {
     "name": "stdout",
     "output_type": "stream",
     "text": [
      "Random class-proportional prediction (dummy classifier)\n",
      " [[354  53]\n",
      " [ 38   5]]\n"
     ]
    }
   ],
   "source": [
    "# produces random predictions w/ same class proportion as training set\n",
    "dummy_classprop = DummyClassifier(strategy='stratified').fit(X_train, y_train)\n",
    "y_classprop_predicted = dummy_classprop.predict(X_test)\n",
    "confusion = confusion_matrix(y_test, y_classprop_predicted)\n",
    "\n",
    "print('Random class-proportional prediction (dummy classifier)\\n', confusion)"
   ]
  },
  {
   "cell_type": "code",
   "execution_count": 32,
   "metadata": {
    "scrolled": true
   },
   "outputs": [
    {
     "name": "stdout",
     "output_type": "stream",
     "text": [
      "Support vector machine classifier (linear kernel, C=1)\n",
      " [[402   5]\n",
      " [  5  38]]\n"
     ]
    }
   ],
   "source": [
    "svm = SVC(kernel='linear', C=1).fit(X_train, y_train)\n",
    "svm_predicted = svm.predict(X_test)\n",
    "confusion = confusion_matrix(y_test, svm_predicted)\n",
    "\n",
    "print('Support vector machine classifier (linear kernel, C=1)\\n', confusion)"
   ]
  },
  {
   "cell_type": "code",
   "execution_count": 33,
   "metadata": {},
   "outputs": [
    {
     "name": "stdout",
     "output_type": "stream",
     "text": [
      "Logistic regression classifier (default settings)\n",
      " [[401   6]\n",
      " [  6  37]]\n"
     ]
    },
    {
     "name": "stderr",
     "output_type": "stream",
     "text": [
      "/Users/ramzisaouma/anaconda3/lib/python3.7/site-packages/sklearn/linear_model/logistic.py:433: FutureWarning: Default solver will be changed to 'lbfgs' in 0.22. Specify a solver to silence this warning.\n",
      "  FutureWarning)\n"
     ]
    }
   ],
   "source": [
    "from sklearn.linear_model import LogisticRegression\n",
    "\n",
    "lr = LogisticRegression().fit(X_train, y_train)\n",
    "lr_predicted = lr.predict(X_test)\n",
    "confusion = confusion_matrix(y_test, lr_predicted)\n",
    "\n",
    "print('Logistic regression classifier (default settings)\\n', confusion)"
   ]
  },
  {
   "cell_type": "code",
   "execution_count": 34,
   "metadata": {},
   "outputs": [
    {
     "name": "stdout",
     "output_type": "stream",
     "text": [
      "Decision tree classifier (max_depth = 2)\n",
      " [[400   7]\n",
      " [ 17  26]]\n"
     ]
    }
   ],
   "source": [
    "from sklearn.tree import DecisionTreeClassifier\n",
    "\n",
    "dt = DecisionTreeClassifier(max_depth=2).fit(X_train, y_train)\n",
    "tree_predicted = dt.predict(X_test)\n",
    "confusion = confusion_matrix(y_test, tree_predicted)\n",
    "\n",
    "print('Decision tree classifier (max_depth = 2)\\n', confusion)"
   ]
  },
  {
   "cell_type": "markdown",
   "metadata": {},
   "source": [
    "### Evaluation metrics for binary classification"
   ]
  },
  {
   "cell_type": "code",
   "execution_count": 35,
   "metadata": {},
   "outputs": [
    {
     "name": "stdout",
     "output_type": "stream",
     "text": [
      "Accuracy: 0.95\n",
      "Precision: 0.79\n",
      "Recall: 0.60\n",
      "F1: 0.68\n"
     ]
    }
   ],
   "source": [
    "from sklearn.metrics import accuracy_score, precision_score, recall_score, f1_score\n",
    "# Accuracy = TP + TN / (TP + TN + FP + FN)\n",
    "# Precision = TP / (TP + FP)\n",
    "# Recall = TP / (TP + FN)  Also known as sensitivity, or True Positive Rate\n",
    "# F1 = 2 * Precision * Recall / (Precision + Recall) \n",
    "print('Accuracy: {:.2f}'.format(accuracy_score(y_test, tree_predicted)))\n",
    "print('Precision: {:.2f}'.format(precision_score(y_test, tree_predicted)))\n",
    "print('Recall: {:.2f}'.format(recall_score(y_test, tree_predicted)))\n",
    "print('F1: {:.2f}'.format(f1_score(y_test, tree_predicted)))"
   ]
  },
  {
   "cell_type": "code",
   "execution_count": 36,
   "metadata": {},
   "outputs": [
    {
     "name": "stdout",
     "output_type": "stream",
     "text": [
      "              precision    recall  f1-score   support\n",
      "\n",
      "       not 1       0.96      0.98      0.97       407\n",
      "           1       0.79      0.60      0.68        43\n",
      "\n",
      "   micro avg       0.95      0.95      0.95       450\n",
      "   macro avg       0.87      0.79      0.83       450\n",
      "weighted avg       0.94      0.95      0.94       450\n",
      "\n"
     ]
    }
   ],
   "source": [
    "# Combined report with all above metrics\n",
    "from sklearn.metrics import classification_report\n",
    "\n",
    "print(classification_report(y_test, tree_predicted, target_names=['not 1', '1']))"
   ]
  },
  {
   "cell_type": "code",
   "execution_count": 37,
   "metadata": {
    "scrolled": false
   },
   "outputs": [
    {
     "name": "stdout",
     "output_type": "stream",
     "text": [
      "Random class-proportional (dummy)\n",
      "               precision    recall  f1-score   support\n",
      "\n",
      "       not 1       0.90      0.87      0.89       407\n",
      "           1       0.09      0.12      0.10        43\n",
      "\n",
      "   micro avg       0.80      0.80      0.80       450\n",
      "   macro avg       0.49      0.49      0.49       450\n",
      "weighted avg       0.83      0.80      0.81       450\n",
      "\n",
      "SVM\n",
      "               precision    recall  f1-score   support\n",
      "\n",
      "       not 1       0.99      0.99      0.99       407\n",
      "           1       0.88      0.88      0.88        43\n",
      "\n",
      "   micro avg       0.98      0.98      0.98       450\n",
      "   macro avg       0.94      0.94      0.94       450\n",
      "weighted avg       0.98      0.98      0.98       450\n",
      "\n",
      "Logistic regression\n",
      "               precision    recall  f1-score   support\n",
      "\n",
      "       not 1       0.99      0.99      0.99       407\n",
      "           1       0.86      0.86      0.86        43\n",
      "\n",
      "   micro avg       0.97      0.97      0.97       450\n",
      "   macro avg       0.92      0.92      0.92       450\n",
      "weighted avg       0.97      0.97      0.97       450\n",
      "\n",
      "Decision tree\n",
      "               precision    recall  f1-score   support\n",
      "\n",
      "       not 1       0.96      0.98      0.97       407\n",
      "           1       0.79      0.60      0.68        43\n",
      "\n",
      "   micro avg       0.95      0.95      0.95       450\n",
      "   macro avg       0.87      0.79      0.83       450\n",
      "weighted avg       0.94      0.95      0.94       450\n",
      "\n"
     ]
    }
   ],
   "source": [
    "print('Random class-proportional (dummy)\\n', \n",
    "      classification_report(y_test, y_classprop_predicted, target_names=['not 1', '1']))\n",
    "print('SVM\\n', \n",
    "      classification_report(y_test, svm_predicted, target_names = ['not 1', '1']))\n",
    "print('Logistic regression\\n', \n",
    "      classification_report(y_test, lr_predicted, target_names = ['not 1', '1']))\n",
    "print('Decision tree\\n', \n",
    "      classification_report(y_test, tree_predicted, target_names = ['not 1', '1']))"
   ]
  },
  {
   "cell_type": "markdown",
   "metadata": {},
   "source": [
    "### Regression evaluation metrics"
   ]
  },
  {
   "cell_type": "code",
   "execution_count": 21,
   "metadata": {},
   "outputs": [
    {
     "name": "stdout",
     "output_type": "stream",
     "text": [
      "Linear model, coefficients:  [-698.80206267]\n",
      "Mean squared error (dummy): 4965.13\n",
      "Mean squared error (linear model): 4646.74\n",
      "r2_score (dummy): -0.00\n",
      "r2_score (linear model): 0.06\n"
     ]
    },
    {
     "data": {
      "application/javascript": [
       "/* Put everything inside the global mpl namespace */\n",
       "window.mpl = {};\n",
       "\n",
       "\n",
       "mpl.get_websocket_type = function() {\n",
       "    if (typeof(WebSocket) !== 'undefined') {\n",
       "        return WebSocket;\n",
       "    } else if (typeof(MozWebSocket) !== 'undefined') {\n",
       "        return MozWebSocket;\n",
       "    } else {\n",
       "        alert('Your browser does not have WebSocket support.' +\n",
       "              'Please try Chrome, Safari or Firefox ≥ 6. ' +\n",
       "              'Firefox 4 and 5 are also supported but you ' +\n",
       "              'have to enable WebSockets in about:config.');\n",
       "    };\n",
       "}\n",
       "\n",
       "mpl.figure = function(figure_id, websocket, ondownload, parent_element) {\n",
       "    this.id = figure_id;\n",
       "\n",
       "    this.ws = websocket;\n",
       "\n",
       "    this.supports_binary = (this.ws.binaryType != undefined);\n",
       "\n",
       "    if (!this.supports_binary) {\n",
       "        var warnings = document.getElementById(\"mpl-warnings\");\n",
       "        if (warnings) {\n",
       "            warnings.style.display = 'block';\n",
       "            warnings.textContent = (\n",
       "                \"This browser does not support binary websocket messages. \" +\n",
       "                    \"Performance may be slow.\");\n",
       "        }\n",
       "    }\n",
       "\n",
       "    this.imageObj = new Image();\n",
       "\n",
       "    this.context = undefined;\n",
       "    this.message = undefined;\n",
       "    this.canvas = undefined;\n",
       "    this.rubberband_canvas = undefined;\n",
       "    this.rubberband_context = undefined;\n",
       "    this.format_dropdown = undefined;\n",
       "\n",
       "    this.image_mode = 'full';\n",
       "\n",
       "    this.root = $('<div/>');\n",
       "    this._root_extra_style(this.root)\n",
       "    this.root.attr('style', 'display: inline-block');\n",
       "\n",
       "    $(parent_element).append(this.root);\n",
       "\n",
       "    this._init_header(this);\n",
       "    this._init_canvas(this);\n",
       "    this._init_toolbar(this);\n",
       "\n",
       "    var fig = this;\n",
       "\n",
       "    this.waiting = false;\n",
       "\n",
       "    this.ws.onopen =  function () {\n",
       "            fig.send_message(\"supports_binary\", {value: fig.supports_binary});\n",
       "            fig.send_message(\"send_image_mode\", {});\n",
       "            if (mpl.ratio != 1) {\n",
       "                fig.send_message(\"set_dpi_ratio\", {'dpi_ratio': mpl.ratio});\n",
       "            }\n",
       "            fig.send_message(\"refresh\", {});\n",
       "        }\n",
       "\n",
       "    this.imageObj.onload = function() {\n",
       "            if (fig.image_mode == 'full') {\n",
       "                // Full images could contain transparency (where diff images\n",
       "                // almost always do), so we need to clear the canvas so that\n",
       "                // there is no ghosting.\n",
       "                fig.context.clearRect(0, 0, fig.canvas.width, fig.canvas.height);\n",
       "            }\n",
       "            fig.context.drawImage(fig.imageObj, 0, 0);\n",
       "        };\n",
       "\n",
       "    this.imageObj.onunload = function() {\n",
       "        fig.ws.close();\n",
       "    }\n",
       "\n",
       "    this.ws.onmessage = this._make_on_message_function(this);\n",
       "\n",
       "    this.ondownload = ondownload;\n",
       "}\n",
       "\n",
       "mpl.figure.prototype._init_header = function() {\n",
       "    var titlebar = $(\n",
       "        '<div class=\"ui-dialog-titlebar ui-widget-header ui-corner-all ' +\n",
       "        'ui-helper-clearfix\"/>');\n",
       "    var titletext = $(\n",
       "        '<div class=\"ui-dialog-title\" style=\"width: 100%; ' +\n",
       "        'text-align: center; padding: 3px;\"/>');\n",
       "    titlebar.append(titletext)\n",
       "    this.root.append(titlebar);\n",
       "    this.header = titletext[0];\n",
       "}\n",
       "\n",
       "\n",
       "\n",
       "mpl.figure.prototype._canvas_extra_style = function(canvas_div) {\n",
       "\n",
       "}\n",
       "\n",
       "\n",
       "mpl.figure.prototype._root_extra_style = function(canvas_div) {\n",
       "\n",
       "}\n",
       "\n",
       "mpl.figure.prototype._init_canvas = function() {\n",
       "    var fig = this;\n",
       "\n",
       "    var canvas_div = $('<div/>');\n",
       "\n",
       "    canvas_div.attr('style', 'position: relative; clear: both; outline: 0');\n",
       "\n",
       "    function canvas_keyboard_event(event) {\n",
       "        return fig.key_event(event, event['data']);\n",
       "    }\n",
       "\n",
       "    canvas_div.keydown('key_press', canvas_keyboard_event);\n",
       "    canvas_div.keyup('key_release', canvas_keyboard_event);\n",
       "    this.canvas_div = canvas_div\n",
       "    this._canvas_extra_style(canvas_div)\n",
       "    this.root.append(canvas_div);\n",
       "\n",
       "    var canvas = $('<canvas/>');\n",
       "    canvas.addClass('mpl-canvas');\n",
       "    canvas.attr('style', \"left: 0; top: 0; z-index: 0; outline: 0\")\n",
       "\n",
       "    this.canvas = canvas[0];\n",
       "    this.context = canvas[0].getContext(\"2d\");\n",
       "\n",
       "    var backingStore = this.context.backingStorePixelRatio ||\n",
       "\tthis.context.webkitBackingStorePixelRatio ||\n",
       "\tthis.context.mozBackingStorePixelRatio ||\n",
       "\tthis.context.msBackingStorePixelRatio ||\n",
       "\tthis.context.oBackingStorePixelRatio ||\n",
       "\tthis.context.backingStorePixelRatio || 1;\n",
       "\n",
       "    mpl.ratio = (window.devicePixelRatio || 1) / backingStore;\n",
       "\n",
       "    var rubberband = $('<canvas/>');\n",
       "    rubberband.attr('style', \"position: absolute; left: 0; top: 0; z-index: 1;\")\n",
       "\n",
       "    var pass_mouse_events = true;\n",
       "\n",
       "    canvas_div.resizable({\n",
       "        start: function(event, ui) {\n",
       "            pass_mouse_events = false;\n",
       "        },\n",
       "        resize: function(event, ui) {\n",
       "            fig.request_resize(ui.size.width, ui.size.height);\n",
       "        },\n",
       "        stop: function(event, ui) {\n",
       "            pass_mouse_events = true;\n",
       "            fig.request_resize(ui.size.width, ui.size.height);\n",
       "        },\n",
       "    });\n",
       "\n",
       "    function mouse_event_fn(event) {\n",
       "        if (pass_mouse_events)\n",
       "            return fig.mouse_event(event, event['data']);\n",
       "    }\n",
       "\n",
       "    rubberband.mousedown('button_press', mouse_event_fn);\n",
       "    rubberband.mouseup('button_release', mouse_event_fn);\n",
       "    // Throttle sequential mouse events to 1 every 20ms.\n",
       "    rubberband.mousemove('motion_notify', mouse_event_fn);\n",
       "\n",
       "    rubberband.mouseenter('figure_enter', mouse_event_fn);\n",
       "    rubberband.mouseleave('figure_leave', mouse_event_fn);\n",
       "\n",
       "    canvas_div.on(\"wheel\", function (event) {\n",
       "        event = event.originalEvent;\n",
       "        event['data'] = 'scroll'\n",
       "        if (event.deltaY < 0) {\n",
       "            event.step = 1;\n",
       "        } else {\n",
       "            event.step = -1;\n",
       "        }\n",
       "        mouse_event_fn(event);\n",
       "    });\n",
       "\n",
       "    canvas_div.append(canvas);\n",
       "    canvas_div.append(rubberband);\n",
       "\n",
       "    this.rubberband = rubberband;\n",
       "    this.rubberband_canvas = rubberband[0];\n",
       "    this.rubberband_context = rubberband[0].getContext(\"2d\");\n",
       "    this.rubberband_context.strokeStyle = \"#000000\";\n",
       "\n",
       "    this._resize_canvas = function(width, height) {\n",
       "        // Keep the size of the canvas, canvas container, and rubber band\n",
       "        // canvas in synch.\n",
       "        canvas_div.css('width', width)\n",
       "        canvas_div.css('height', height)\n",
       "\n",
       "        canvas.attr('width', width * mpl.ratio);\n",
       "        canvas.attr('height', height * mpl.ratio);\n",
       "        canvas.attr('style', 'width: ' + width + 'px; height: ' + height + 'px;');\n",
       "\n",
       "        rubberband.attr('width', width);\n",
       "        rubberband.attr('height', height);\n",
       "    }\n",
       "\n",
       "    // Set the figure to an initial 600x600px, this will subsequently be updated\n",
       "    // upon first draw.\n",
       "    this._resize_canvas(600, 600);\n",
       "\n",
       "    // Disable right mouse context menu.\n",
       "    $(this.rubberband_canvas).bind(\"contextmenu\",function(e){\n",
       "        return false;\n",
       "    });\n",
       "\n",
       "    function set_focus () {\n",
       "        canvas.focus();\n",
       "        canvas_div.focus();\n",
       "    }\n",
       "\n",
       "    window.setTimeout(set_focus, 100);\n",
       "}\n",
       "\n",
       "mpl.figure.prototype._init_toolbar = function() {\n",
       "    var fig = this;\n",
       "\n",
       "    var nav_element = $('<div/>')\n",
       "    nav_element.attr('style', 'width: 100%');\n",
       "    this.root.append(nav_element);\n",
       "\n",
       "    // Define a callback function for later on.\n",
       "    function toolbar_event(event) {\n",
       "        return fig.toolbar_button_onclick(event['data']);\n",
       "    }\n",
       "    function toolbar_mouse_event(event) {\n",
       "        return fig.toolbar_button_onmouseover(event['data']);\n",
       "    }\n",
       "\n",
       "    for(var toolbar_ind in mpl.toolbar_items) {\n",
       "        var name = mpl.toolbar_items[toolbar_ind][0];\n",
       "        var tooltip = mpl.toolbar_items[toolbar_ind][1];\n",
       "        var image = mpl.toolbar_items[toolbar_ind][2];\n",
       "        var method_name = mpl.toolbar_items[toolbar_ind][3];\n",
       "\n",
       "        if (!name) {\n",
       "            // put a spacer in here.\n",
       "            continue;\n",
       "        }\n",
       "        var button = $('<button/>');\n",
       "        button.addClass('ui-button ui-widget ui-state-default ui-corner-all ' +\n",
       "                        'ui-button-icon-only');\n",
       "        button.attr('role', 'button');\n",
       "        button.attr('aria-disabled', 'false');\n",
       "        button.click(method_name, toolbar_event);\n",
       "        button.mouseover(tooltip, toolbar_mouse_event);\n",
       "\n",
       "        var icon_img = $('<span/>');\n",
       "        icon_img.addClass('ui-button-icon-primary ui-icon');\n",
       "        icon_img.addClass(image);\n",
       "        icon_img.addClass('ui-corner-all');\n",
       "\n",
       "        var tooltip_span = $('<span/>');\n",
       "        tooltip_span.addClass('ui-button-text');\n",
       "        tooltip_span.html(tooltip);\n",
       "\n",
       "        button.append(icon_img);\n",
       "        button.append(tooltip_span);\n",
       "\n",
       "        nav_element.append(button);\n",
       "    }\n",
       "\n",
       "    var fmt_picker_span = $('<span/>');\n",
       "\n",
       "    var fmt_picker = $('<select/>');\n",
       "    fmt_picker.addClass('mpl-toolbar-option ui-widget ui-widget-content');\n",
       "    fmt_picker_span.append(fmt_picker);\n",
       "    nav_element.append(fmt_picker_span);\n",
       "    this.format_dropdown = fmt_picker[0];\n",
       "\n",
       "    for (var ind in mpl.extensions) {\n",
       "        var fmt = mpl.extensions[ind];\n",
       "        var option = $(\n",
       "            '<option/>', {selected: fmt === mpl.default_extension}).html(fmt);\n",
       "        fmt_picker.append(option)\n",
       "    }\n",
       "\n",
       "    // Add hover states to the ui-buttons\n",
       "    $( \".ui-button\" ).hover(\n",
       "        function() { $(this).addClass(\"ui-state-hover\");},\n",
       "        function() { $(this).removeClass(\"ui-state-hover\");}\n",
       "    );\n",
       "\n",
       "    var status_bar = $('<span class=\"mpl-message\"/>');\n",
       "    nav_element.append(status_bar);\n",
       "    this.message = status_bar[0];\n",
       "}\n",
       "\n",
       "mpl.figure.prototype.request_resize = function(x_pixels, y_pixels) {\n",
       "    // Request matplotlib to resize the figure. Matplotlib will then trigger a resize in the client,\n",
       "    // which will in turn request a refresh of the image.\n",
       "    this.send_message('resize', {'width': x_pixels, 'height': y_pixels});\n",
       "}\n",
       "\n",
       "mpl.figure.prototype.send_message = function(type, properties) {\n",
       "    properties['type'] = type;\n",
       "    properties['figure_id'] = this.id;\n",
       "    this.ws.send(JSON.stringify(properties));\n",
       "}\n",
       "\n",
       "mpl.figure.prototype.send_draw_message = function() {\n",
       "    if (!this.waiting) {\n",
       "        this.waiting = true;\n",
       "        this.ws.send(JSON.stringify({type: \"draw\", figure_id: this.id}));\n",
       "    }\n",
       "}\n",
       "\n",
       "\n",
       "mpl.figure.prototype.handle_save = function(fig, msg) {\n",
       "    var format_dropdown = fig.format_dropdown;\n",
       "    var format = format_dropdown.options[format_dropdown.selectedIndex].value;\n",
       "    fig.ondownload(fig, format);\n",
       "}\n",
       "\n",
       "\n",
       "mpl.figure.prototype.handle_resize = function(fig, msg) {\n",
       "    var size = msg['size'];\n",
       "    if (size[0] != fig.canvas.width || size[1] != fig.canvas.height) {\n",
       "        fig._resize_canvas(size[0], size[1]);\n",
       "        fig.send_message(\"refresh\", {});\n",
       "    };\n",
       "}\n",
       "\n",
       "mpl.figure.prototype.handle_rubberband = function(fig, msg) {\n",
       "    var x0 = msg['x0'] / mpl.ratio;\n",
       "    var y0 = (fig.canvas.height - msg['y0']) / mpl.ratio;\n",
       "    var x1 = msg['x1'] / mpl.ratio;\n",
       "    var y1 = (fig.canvas.height - msg['y1']) / mpl.ratio;\n",
       "    x0 = Math.floor(x0) + 0.5;\n",
       "    y0 = Math.floor(y0) + 0.5;\n",
       "    x1 = Math.floor(x1) + 0.5;\n",
       "    y1 = Math.floor(y1) + 0.5;\n",
       "    var min_x = Math.min(x0, x1);\n",
       "    var min_y = Math.min(y0, y1);\n",
       "    var width = Math.abs(x1 - x0);\n",
       "    var height = Math.abs(y1 - y0);\n",
       "\n",
       "    fig.rubberband_context.clearRect(\n",
       "        0, 0, fig.canvas.width, fig.canvas.height);\n",
       "\n",
       "    fig.rubberband_context.strokeRect(min_x, min_y, width, height);\n",
       "}\n",
       "\n",
       "mpl.figure.prototype.handle_figure_label = function(fig, msg) {\n",
       "    // Updates the figure title.\n",
       "    fig.header.textContent = msg['label'];\n",
       "}\n",
       "\n",
       "mpl.figure.prototype.handle_cursor = function(fig, msg) {\n",
       "    var cursor = msg['cursor'];\n",
       "    switch(cursor)\n",
       "    {\n",
       "    case 0:\n",
       "        cursor = 'pointer';\n",
       "        break;\n",
       "    case 1:\n",
       "        cursor = 'default';\n",
       "        break;\n",
       "    case 2:\n",
       "        cursor = 'crosshair';\n",
       "        break;\n",
       "    case 3:\n",
       "        cursor = 'move';\n",
       "        break;\n",
       "    }\n",
       "    fig.rubberband_canvas.style.cursor = cursor;\n",
       "}\n",
       "\n",
       "mpl.figure.prototype.handle_message = function(fig, msg) {\n",
       "    fig.message.textContent = msg['message'];\n",
       "}\n",
       "\n",
       "mpl.figure.prototype.handle_draw = function(fig, msg) {\n",
       "    // Request the server to send over a new figure.\n",
       "    fig.send_draw_message();\n",
       "}\n",
       "\n",
       "mpl.figure.prototype.handle_image_mode = function(fig, msg) {\n",
       "    fig.image_mode = msg['mode'];\n",
       "}\n",
       "\n",
       "mpl.figure.prototype.updated_canvas_event = function() {\n",
       "    // Called whenever the canvas gets updated.\n",
       "    this.send_message(\"ack\", {});\n",
       "}\n",
       "\n",
       "// A function to construct a web socket function for onmessage handling.\n",
       "// Called in the figure constructor.\n",
       "mpl.figure.prototype._make_on_message_function = function(fig) {\n",
       "    return function socket_on_message(evt) {\n",
       "        if (evt.data instanceof Blob) {\n",
       "            /* FIXME: We get \"Resource interpreted as Image but\n",
       "             * transferred with MIME type text/plain:\" errors on\n",
       "             * Chrome.  But how to set the MIME type?  It doesn't seem\n",
       "             * to be part of the websocket stream */\n",
       "            evt.data.type = \"image/png\";\n",
       "\n",
       "            /* Free the memory for the previous frames */\n",
       "            if (fig.imageObj.src) {\n",
       "                (window.URL || window.webkitURL).revokeObjectURL(\n",
       "                    fig.imageObj.src);\n",
       "            }\n",
       "\n",
       "            fig.imageObj.src = (window.URL || window.webkitURL).createObjectURL(\n",
       "                evt.data);\n",
       "            fig.updated_canvas_event();\n",
       "            fig.waiting = false;\n",
       "            return;\n",
       "        }\n",
       "        else if (typeof evt.data === 'string' && evt.data.slice(0, 21) == \"data:image/png;base64\") {\n",
       "            fig.imageObj.src = evt.data;\n",
       "            fig.updated_canvas_event();\n",
       "            fig.waiting = false;\n",
       "            return;\n",
       "        }\n",
       "\n",
       "        var msg = JSON.parse(evt.data);\n",
       "        var msg_type = msg['type'];\n",
       "\n",
       "        // Call the  \"handle_{type}\" callback, which takes\n",
       "        // the figure and JSON message as its only arguments.\n",
       "        try {\n",
       "            var callback = fig[\"handle_\" + msg_type];\n",
       "        } catch (e) {\n",
       "            console.log(\"No handler for the '\" + msg_type + \"' message type: \", msg);\n",
       "            return;\n",
       "        }\n",
       "\n",
       "        if (callback) {\n",
       "            try {\n",
       "                // console.log(\"Handling '\" + msg_type + \"' message: \", msg);\n",
       "                callback(fig, msg);\n",
       "            } catch (e) {\n",
       "                console.log(\"Exception inside the 'handler_\" + msg_type + \"' callback:\", e, e.stack, msg);\n",
       "            }\n",
       "        }\n",
       "    };\n",
       "}\n",
       "\n",
       "// from http://stackoverflow.com/questions/1114465/getting-mouse-location-in-canvas\n",
       "mpl.findpos = function(e) {\n",
       "    //this section is from http://www.quirksmode.org/js/events_properties.html\n",
       "    var targ;\n",
       "    if (!e)\n",
       "        e = window.event;\n",
       "    if (e.target)\n",
       "        targ = e.target;\n",
       "    else if (e.srcElement)\n",
       "        targ = e.srcElement;\n",
       "    if (targ.nodeType == 3) // defeat Safari bug\n",
       "        targ = targ.parentNode;\n",
       "\n",
       "    // jQuery normalizes the pageX and pageY\n",
       "    // pageX,Y are the mouse positions relative to the document\n",
       "    // offset() returns the position of the element relative to the document\n",
       "    var x = e.pageX - $(targ).offset().left;\n",
       "    var y = e.pageY - $(targ).offset().top;\n",
       "\n",
       "    return {\"x\": x, \"y\": y};\n",
       "};\n",
       "\n",
       "/*\n",
       " * return a copy of an object with only non-object keys\n",
       " * we need this to avoid circular references\n",
       " * http://stackoverflow.com/a/24161582/3208463\n",
       " */\n",
       "function simpleKeys (original) {\n",
       "  return Object.keys(original).reduce(function (obj, key) {\n",
       "    if (typeof original[key] !== 'object')\n",
       "        obj[key] = original[key]\n",
       "    return obj;\n",
       "  }, {});\n",
       "}\n",
       "\n",
       "mpl.figure.prototype.mouse_event = function(event, name) {\n",
       "    var canvas_pos = mpl.findpos(event)\n",
       "\n",
       "    if (name === 'button_press')\n",
       "    {\n",
       "        this.canvas.focus();\n",
       "        this.canvas_div.focus();\n",
       "    }\n",
       "\n",
       "    var x = canvas_pos.x * mpl.ratio;\n",
       "    var y = canvas_pos.y * mpl.ratio;\n",
       "\n",
       "    this.send_message(name, {x: x, y: y, button: event.button,\n",
       "                             step: event.step,\n",
       "                             guiEvent: simpleKeys(event)});\n",
       "\n",
       "    /* This prevents the web browser from automatically changing to\n",
       "     * the text insertion cursor when the button is pressed.  We want\n",
       "     * to control all of the cursor setting manually through the\n",
       "     * 'cursor' event from matplotlib */\n",
       "    event.preventDefault();\n",
       "    return false;\n",
       "}\n",
       "\n",
       "mpl.figure.prototype._key_event_extra = function(event, name) {\n",
       "    // Handle any extra behaviour associated with a key event\n",
       "}\n",
       "\n",
       "mpl.figure.prototype.key_event = function(event, name) {\n",
       "\n",
       "    // Prevent repeat events\n",
       "    if (name == 'key_press')\n",
       "    {\n",
       "        if (event.which === this._key)\n",
       "            return;\n",
       "        else\n",
       "            this._key = event.which;\n",
       "    }\n",
       "    if (name == 'key_release')\n",
       "        this._key = null;\n",
       "\n",
       "    var value = '';\n",
       "    if (event.ctrlKey && event.which != 17)\n",
       "        value += \"ctrl+\";\n",
       "    if (event.altKey && event.which != 18)\n",
       "        value += \"alt+\";\n",
       "    if (event.shiftKey && event.which != 16)\n",
       "        value += \"shift+\";\n",
       "\n",
       "    value += 'k';\n",
       "    value += event.which.toString();\n",
       "\n",
       "    this._key_event_extra(event, name);\n",
       "\n",
       "    this.send_message(name, {key: value,\n",
       "                             guiEvent: simpleKeys(event)});\n",
       "    return false;\n",
       "}\n",
       "\n",
       "mpl.figure.prototype.toolbar_button_onclick = function(name) {\n",
       "    if (name == 'download') {\n",
       "        this.handle_save(this, null);\n",
       "    } else {\n",
       "        this.send_message(\"toolbar_button\", {name: name});\n",
       "    }\n",
       "};\n",
       "\n",
       "mpl.figure.prototype.toolbar_button_onmouseover = function(tooltip) {\n",
       "    this.message.textContent = tooltip;\n",
       "};\n",
       "mpl.toolbar_items = [[\"Home\", \"Reset original view\", \"fa fa-home icon-home\", \"home\"], [\"Back\", \"Back to previous view\", \"fa fa-arrow-left icon-arrow-left\", \"back\"], [\"Forward\", \"Forward to next view\", \"fa fa-arrow-right icon-arrow-right\", \"forward\"], [\"\", \"\", \"\", \"\"], [\"Pan\", \"Pan axes with left mouse, zoom with right\", \"fa fa-arrows icon-move\", \"pan\"], [\"Zoom\", \"Zoom to rectangle\", \"fa fa-square-o icon-check-empty\", \"zoom\"], [\"\", \"\", \"\", \"\"], [\"Download\", \"Download plot\", \"fa fa-floppy-o icon-save\", \"download\"]];\n",
       "\n",
       "mpl.extensions = [\"eps\", \"jpeg\", \"pdf\", \"png\", \"ps\", \"raw\", \"svg\", \"tif\"];\n",
       "\n",
       "mpl.default_extension = \"png\";var comm_websocket_adapter = function(comm) {\n",
       "    // Create a \"websocket\"-like object which calls the given IPython comm\n",
       "    // object with the appropriate methods. Currently this is a non binary\n",
       "    // socket, so there is still some room for performance tuning.\n",
       "    var ws = {};\n",
       "\n",
       "    ws.close = function() {\n",
       "        comm.close()\n",
       "    };\n",
       "    ws.send = function(m) {\n",
       "        //console.log('sending', m);\n",
       "        comm.send(m);\n",
       "    };\n",
       "    // Register the callback with on_msg.\n",
       "    comm.on_msg(function(msg) {\n",
       "        //console.log('receiving', msg['content']['data'], msg);\n",
       "        // Pass the mpl event to the overridden (by mpl) onmessage function.\n",
       "        ws.onmessage(msg['content']['data'])\n",
       "    });\n",
       "    return ws;\n",
       "}\n",
       "\n",
       "mpl.mpl_figure_comm = function(comm, msg) {\n",
       "    // This is the function which gets called when the mpl process\n",
       "    // starts-up an IPython Comm through the \"matplotlib\" channel.\n",
       "\n",
       "    var id = msg.content.data.id;\n",
       "    // Get hold of the div created by the display call when the Comm\n",
       "    // socket was opened in Python.\n",
       "    var element = $(\"#\" + id);\n",
       "    var ws_proxy = comm_websocket_adapter(comm)\n",
       "\n",
       "    function ondownload(figure, format) {\n",
       "        window.open(figure.imageObj.src);\n",
       "    }\n",
       "\n",
       "    var fig = new mpl.figure(id, ws_proxy,\n",
       "                           ondownload,\n",
       "                           element.get(0));\n",
       "\n",
       "    // Call onopen now - mpl needs it, as it is assuming we've passed it a real\n",
       "    // web socket which is closed, not our websocket->open comm proxy.\n",
       "    ws_proxy.onopen();\n",
       "\n",
       "    fig.parent_element = element.get(0);\n",
       "    fig.cell_info = mpl.find_output_cell(\"<div id='\" + id + \"'></div>\");\n",
       "    if (!fig.cell_info) {\n",
       "        console.error(\"Failed to find cell for figure\", id, fig);\n",
       "        return;\n",
       "    }\n",
       "\n",
       "    var output_index = fig.cell_info[2]\n",
       "    var cell = fig.cell_info[0];\n",
       "\n",
       "};\n",
       "\n",
       "mpl.figure.prototype.handle_close = function(fig, msg) {\n",
       "    var width = fig.canvas.width/mpl.ratio\n",
       "    fig.root.unbind('remove')\n",
       "\n",
       "    // Update the output cell to use the data from the current canvas.\n",
       "    fig.push_to_output();\n",
       "    var dataURL = fig.canvas.toDataURL();\n",
       "    // Re-enable the keyboard manager in IPython - without this line, in FF,\n",
       "    // the notebook keyboard shortcuts fail.\n",
       "    IPython.keyboard_manager.enable()\n",
       "    $(fig.parent_element).html('<img src=\"' + dataURL + '\" width=\"' + width + '\">');\n",
       "    fig.close_ws(fig, msg);\n",
       "}\n",
       "\n",
       "mpl.figure.prototype.close_ws = function(fig, msg){\n",
       "    fig.send_message('closing', msg);\n",
       "    // fig.ws.close()\n",
       "}\n",
       "\n",
       "mpl.figure.prototype.push_to_output = function(remove_interactive) {\n",
       "    // Turn the data on the canvas into data in the output cell.\n",
       "    var width = this.canvas.width/mpl.ratio\n",
       "    var dataURL = this.canvas.toDataURL();\n",
       "    this.cell_info[1]['text/html'] = '<img src=\"' + dataURL + '\" width=\"' + width + '\">';\n",
       "}\n",
       "\n",
       "mpl.figure.prototype.updated_canvas_event = function() {\n",
       "    // Tell IPython that the notebook contents must change.\n",
       "    IPython.notebook.set_dirty(true);\n",
       "    this.send_message(\"ack\", {});\n",
       "    var fig = this;\n",
       "    // Wait a second, then push the new image to the DOM so\n",
       "    // that it is saved nicely (might be nice to debounce this).\n",
       "    setTimeout(function () { fig.push_to_output() }, 1000);\n",
       "}\n",
       "\n",
       "mpl.figure.prototype._init_toolbar = function() {\n",
       "    var fig = this;\n",
       "\n",
       "    var nav_element = $('<div/>')\n",
       "    nav_element.attr('style', 'width: 100%');\n",
       "    this.root.append(nav_element);\n",
       "\n",
       "    // Define a callback function for later on.\n",
       "    function toolbar_event(event) {\n",
       "        return fig.toolbar_button_onclick(event['data']);\n",
       "    }\n",
       "    function toolbar_mouse_event(event) {\n",
       "        return fig.toolbar_button_onmouseover(event['data']);\n",
       "    }\n",
       "\n",
       "    for(var toolbar_ind in mpl.toolbar_items){\n",
       "        var name = mpl.toolbar_items[toolbar_ind][0];\n",
       "        var tooltip = mpl.toolbar_items[toolbar_ind][1];\n",
       "        var image = mpl.toolbar_items[toolbar_ind][2];\n",
       "        var method_name = mpl.toolbar_items[toolbar_ind][3];\n",
       "\n",
       "        if (!name) { continue; };\n",
       "\n",
       "        var button = $('<button class=\"btn btn-default\" href=\"#\" title=\"' + name + '\"><i class=\"fa ' + image + ' fa-lg\"></i></button>');\n",
       "        button.click(method_name, toolbar_event);\n",
       "        button.mouseover(tooltip, toolbar_mouse_event);\n",
       "        nav_element.append(button);\n",
       "    }\n",
       "\n",
       "    // Add the status bar.\n",
       "    var status_bar = $('<span class=\"mpl-message\" style=\"text-align:right; float: right;\"/>');\n",
       "    nav_element.append(status_bar);\n",
       "    this.message = status_bar[0];\n",
       "\n",
       "    // Add the close button to the window.\n",
       "    var buttongrp = $('<div class=\"btn-group inline pull-right\"></div>');\n",
       "    var button = $('<button class=\"btn btn-mini btn-primary\" href=\"#\" title=\"Stop Interaction\"><i class=\"fa fa-power-off icon-remove icon-large\"></i></button>');\n",
       "    button.click(function (evt) { fig.handle_close(fig, {}); } );\n",
       "    button.mouseover('Stop Interaction', toolbar_mouse_event);\n",
       "    buttongrp.append(button);\n",
       "    var titlebar = this.root.find($('.ui-dialog-titlebar'));\n",
       "    titlebar.prepend(buttongrp);\n",
       "}\n",
       "\n",
       "mpl.figure.prototype._root_extra_style = function(el){\n",
       "    var fig = this\n",
       "    el.on(\"remove\", function(){\n",
       "\tfig.close_ws(fig, {});\n",
       "    });\n",
       "}\n",
       "\n",
       "mpl.figure.prototype._canvas_extra_style = function(el){\n",
       "    // this is important to make the div 'focusable\n",
       "    el.attr('tabindex', 0)\n",
       "    // reach out to IPython and tell the keyboard manager to turn it's self\n",
       "    // off when our div gets focus\n",
       "\n",
       "    // location in version 3\n",
       "    if (IPython.notebook.keyboard_manager) {\n",
       "        IPython.notebook.keyboard_manager.register_events(el);\n",
       "    }\n",
       "    else {\n",
       "        // location in version 2\n",
       "        IPython.keyboard_manager.register_events(el);\n",
       "    }\n",
       "\n",
       "}\n",
       "\n",
       "mpl.figure.prototype._key_event_extra = function(event, name) {\n",
       "    var manager = IPython.notebook.keyboard_manager;\n",
       "    if (!manager)\n",
       "        manager = IPython.keyboard_manager;\n",
       "\n",
       "    // Check for shift+enter\n",
       "    if (event.shiftKey && event.which == 13) {\n",
       "        this.canvas_div.blur();\n",
       "        event.shiftKey = false;\n",
       "        // Send a \"J\" for go to next cell\n",
       "        event.which = 74;\n",
       "        event.keyCode = 74;\n",
       "        manager.command_mode();\n",
       "        manager.handle_keydown(event);\n",
       "    }\n",
       "}\n",
       "\n",
       "mpl.figure.prototype.handle_save = function(fig, msg) {\n",
       "    fig.ondownload(fig, null);\n",
       "}\n",
       "\n",
       "\n",
       "mpl.find_output_cell = function(html_output) {\n",
       "    // Return the cell and output element which can be found *uniquely* in the notebook.\n",
       "    // Note - this is a bit hacky, but it is done because the \"notebook_saving.Notebook\"\n",
       "    // IPython event is triggered only after the cells have been serialised, which for\n",
       "    // our purposes (turning an active figure into a static one), is too late.\n",
       "    var cells = IPython.notebook.get_cells();\n",
       "    var ncells = cells.length;\n",
       "    for (var i=0; i<ncells; i++) {\n",
       "        var cell = cells[i];\n",
       "        if (cell.cell_type === 'code'){\n",
       "            for (var j=0; j<cell.output_area.outputs.length; j++) {\n",
       "                var data = cell.output_area.outputs[j];\n",
       "                if (data.data) {\n",
       "                    // IPython >= 3 moved mimebundle to data attribute of output\n",
       "                    data = data.data;\n",
       "                }\n",
       "                if (data['text/html'] == html_output) {\n",
       "                    return [cell, data, j];\n",
       "                }\n",
       "            }\n",
       "        }\n",
       "    }\n",
       "}\n",
       "\n",
       "// Register the function which deals with the matplotlib target/channel.\n",
       "// The kernel may be null if the page has been refreshed.\n",
       "if (IPython.notebook.kernel != null) {\n",
       "    IPython.notebook.kernel.comm_manager.register_target('matplotlib', mpl.mpl_figure_comm);\n",
       "}\n"
      ],
      "text/plain": [
       "<IPython.core.display.Javascript object>"
      ]
     },
     "metadata": {},
     "output_type": "display_data"
    },
    {
     "data": {
      "text/html": [
       "<img src=\"data:image/png;base64,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\" width=\"640\">"
      ],
      "text/plain": [
       "<IPython.core.display.HTML object>"
      ]
     },
     "metadata": {},
     "output_type": "display_data"
    }
   ],
   "source": [
    "%matplotlib notebook\n",
    "import matplotlib.pyplot as plt\n",
    "import numpy as np\n",
    "from sklearn.model_selection import train_test_split\n",
    "from sklearn import datasets\n",
    "from sklearn.linear_model import LinearRegression\n",
    "from sklearn.metrics import mean_squared_error, r2_score\n",
    "from sklearn.dummy import DummyRegressor\n",
    "\n",
    "diabetes = datasets.load_diabetes()\n",
    "\n",
    "X = diabetes.data[:, None, 6]\n",
    "y = diabetes.target\n",
    "\n",
    "X_train, X_test, y_train, y_test = train_test_split(X, y, random_state=0)\n",
    "\n",
    "lm = LinearRegression().fit(X_train, y_train)\n",
    "lm_dummy_mean = DummyRegressor(strategy = 'mean').fit(X_train, y_train)\n",
    "\n",
    "y_predict = lm.predict(X_test)\n",
    "y_predict_dummy_mean = lm_dummy_mean.predict(X_test)\n",
    "\n",
    "print('Linear model, coefficients: ', lm.coef_)\n",
    "print(\"Mean squared error (dummy): {:.2f}\".format(mean_squared_error(y_test, \n",
    "                                                                     y_predict_dummy_mean)))\n",
    "print(\"Mean squared error (linear model): {:.2f}\".format(mean_squared_error(y_test, y_predict)))\n",
    "print(\"r2_score (dummy): {:.2f}\".format(r2_score(y_test, y_predict_dummy_mean)))\n",
    "print(\"r2_score (linear model): {:.2f}\".format(r2_score(y_test, y_predict)))\n",
    "\n",
    "# Plot outputs\n",
    "plt.scatter(X_test, y_test,  color='black')\n",
    "plt.plot(X_test, y_predict, color='green', linewidth=2)\n",
    "plt.plot(X_test, y_predict_dummy_mean, color='red', linestyle = 'dashed', \n",
    "         linewidth=2, label = 'dummy')\n",
    "\n",
    "plt.show()"
   ]
  },
  {
   "cell_type": "code",
   "execution_count": 15,
   "metadata": {},
   "outputs": [],
   "source": [
    "import test"
   ]
  },
  {
   "cell_type": "code",
   "execution_count": 16,
   "metadata": {},
   "outputs": [
    {
     "data": {
      "text/plain": [
       "'Hello World'"
      ]
     },
     "execution_count": 16,
     "metadata": {},
     "output_type": "execute_result"
    }
   ],
   "source": [
    "test.x"
   ]
  },
  {
   "cell_type": "code",
   "execution_count": null,
   "metadata": {},
   "outputs": [],
   "source": []
  }
 ],
 "metadata": {
  "anaconda-cloud": {},
  "kernelspec": {
   "display_name": "Python 3",
   "language": "python",
   "name": "python3"
  },
  "language_info": {
   "codemirror_mode": {
    "name": "ipython",
    "version": 3
   },
   "file_extension": ".py",
   "mimetype": "text/x-python",
   "name": "python",
   "nbconvert_exporter": "python",
   "pygments_lexer": "ipython3",
   "version": "3.7.1"
  }
 },
 "nbformat": 4,
 "nbformat_minor": 1
}
