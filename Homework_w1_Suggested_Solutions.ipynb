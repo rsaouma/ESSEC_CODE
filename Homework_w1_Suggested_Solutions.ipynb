{
 "cells": [
  {
   "cell_type": "markdown",
   "metadata": {},
   "source": [
    "# Homework Week 1"
   ]
  },
  {
   "cell_type": "markdown",
   "metadata": {},
   "source": [
    "Total score 10. Excellent work Yu!"
   ]
  },
  {
   "cell_type": "markdown",
   "metadata": {},
   "source": [
    "### Question 1"
   ]
  },
  {
   "cell_type": "markdown",
   "metadata": {},
   "source": [
    "Using the data stored in the three lists (row_1, row_2, row_3) below:\n",
    "  - Assign the last element of row_1, row_2 and row_3 to the respective variables called fb_rating, inta_rating, cc_rating.\n",
    "  - Assign the first element of row_2 to a variable called intsa_1.\n",
    "  - Assign the second element of row_3 to a variable called cc_price.\n",
    "  - calculate the average of the three ratings and stored into a variable avg_rating.\n",
    "  - Select the first four elements from row_1 using a list slicing syntax shortcut. Assign the output to a variable named first_4_fb.\n",
    "  - Select the last three elements from row_1 using a list slicing syntax shortcut. Assign the output to a variable named last_3_fb.\n",
    "  - From row_3, select the list slice ['USD', 3455] using a list slicing syntax shortcut. Assign the output to a variable named pandora_3_4."
   ]
  },
  {
   "cell_type": "code",
   "execution_count": 1,
   "metadata": {},
   "outputs": [
    {
     "name": "stdout",
     "output_type": "stream",
     "text": [
      "Facebook Rating : 3.59, Instagram Rating: 4.5, LinkedIn Rating: 4.55\n",
      "First element of row 2 is Instagram\n",
      "Second element of row 3 is 12.0\n",
      "Average Rating is 4.213333333333334\n",
      "First four elements of row_1 is\n",
      "['Facebook', 0.0, 'USD', 5124]\n",
      "Last three elements of row_1 is\n",
      "['USD', 5124, 3.59]\n",
      "Selected list slice is\n",
      "['USD', 3455]\n"
     ]
    }
   ],
   "source": [
    "row_1 = ['Facebook', 0.0, 'USD', 5124, 3.59]\n",
    "row_2 = ['Instagram', 0.0, 'USD', 3223, 4.50]\n",
    "row_3 = ['linkedin', 12.0, 'USD', 3455, 4.55]\n",
    "\n",
    "\n",
    "fb_rating = row_1[-1]\n",
    "inta_rating = row_2[-1]\n",
    "cc_rating = row_3[-1]\n",
    "\n",
    "print(\"Facebook Rating : {}, Instagram Rating: {}, LinkedIn Rating: {}\".format(fb_rating, inta_rating, cc_rating))\n",
    "\n",
    "insta_1 = row_2[0]\n",
    "print(\"First element of row 2 is {}\".format(insta_1))\n",
    "\n",
    "cc_price = row_3[1]\n",
    "print(\"Second element of row 3 is {}\".format(cc_price))\n",
    "\n",
    "avg_rating = (fb_rating + inta_rating + cc_rating)/3\n",
    "print(\"Average Rating is {}\".format(avg_rating))\n",
    "\n",
    "first_4_fb = row_1[:4]\n",
    "print(\"First four elements of row_1 is\")\n",
    "print(first_4_fb)\n",
    "\n",
    "last_3_fb = row_1[-3:]\n",
    "print(\"Last three elements of row_1 is\")\n",
    "print(last_3_fb)\n",
    "\n",
    "pandora_3_4 = row_3[2:4]\n",
    "print(\"Selected list slice is\")\n",
    "print(pandora_3_4)"
   ]
  },
  {
   "cell_type": "markdown",
   "metadata": {},
   "source": [
    "### Question 2"
   ]
  },
  {
   "cell_type": "markdown",
   "metadata": {},
   "source": [
    "Using data from question 1 create a list of three lists (row_1,row_2, row_2) and call it _app_list_:"
   ]
  },
  {
   "cell_type": "code",
   "execution_count": 6,
   "metadata": {},
   "outputs": [
    {
     "data": {
      "text/plain": [
       "[['Facebook', 0.0, 'USD', 5124, 3.59],\n",
       " ['Instagram', 0.0, 'USD', 3223, 4.5],\n",
       " ['linkedin', 12.0, 'USD', 3455, 4.55]]"
      ]
     },
     "execution_count": 6,
     "metadata": {},
     "output_type": "execute_result"
    }
   ],
   "source": [
    "_applist = [row_1, row_2, row_3]\n",
    "_applist"
   ]
  },
  {
   "cell_type": "markdown",
   "metadata": {},
   "source": [
    "### Question 3"
   ]
  },
  {
   "cell_type": "markdown",
   "metadata": {},
   "source": [
    "Using the __'for'__ iteration print the name and the rating of each app on seperate line:"
   ]
  },
  {
   "cell_type": "code",
   "execution_count": 4,
   "metadata": {},
   "outputs": [
    {
     "name": "stdout",
     "output_type": "stream",
     "text": [
      "App: Facebook, Rating: 3.59\n",
      "App: Instagram, Rating: 4.5\n",
      "App: linkedin, Rating: 4.55\n"
     ]
    }
   ],
   "source": [
    "for i in range(len(_applist)):\n",
    "    name = _applist[i][0]\n",
    "    rating = _applist[i][-1]\n",
    "    print(\"App: {}, Rating: {}\".format(name, rating))"
   ]
  },
  {
   "cell_type": "markdown",
   "metadata": {},
   "source": [
    "### Question 4"
   ]
  },
  {
   "cell_type": "markdown",
   "metadata": {},
   "source": [
    "Using the __'for'__ iteration print the name and the price of each app on seperate line. Make sure that the price formating has one digit after the coma. The output should the below format:\n",
    "\n",
    "\"The price of the app spotify, is 0.0\""
   ]
  },
  {
   "cell_type": "code",
   "execution_count": 19,
   "metadata": {},
   "outputs": [
    {
     "name": "stdout",
     "output_type": "stream",
     "text": [
      "The price of the app Facebook, is 3.6\n",
      "The price of the app Instagram, is 4.5\n",
      "The price of the app linkedin, is 4.5\n"
     ]
    }
   ],
   "source": [
    "for elem in _applist:\n",
    "    price = round(elem[4],1)\n",
    "    print(\"The price of the app {}, is {}\".format(elem[0], price))"
   ]
  },
  {
   "cell_type": "markdown",
   "metadata": {},
   "source": [
    "### Question 5\n"
   ]
  },
  {
   "cell_type": "markdown",
   "metadata": {},
   "source": [
    "Using iteration write a program that sums all the __even__ elements of the below list:"
   ]
  },
  {
   "cell_type": "code",
   "execution_count": 23,
   "metadata": {},
   "outputs": [
    {
     "name": "stdout",
     "output_type": "stream",
     "text": [
      "The sum of all even integers in list l_1 is 22\n"
     ]
    }
   ],
   "source": [
    "l_1 = [2,3,4,2,7,3,1,1,4,9,2,5,3,7,8,11,5]\n",
    "\n",
    "def isEven(number):\n",
    "    if number % 2 == 0:\n",
    "        return True\n",
    "    else:\n",
    "        return False\n",
    "\n",
    "sumOfEven = sum(filter(isEven, l_1))\n",
    "print(\"The sum of all even integers in list l_1 is {}\".format(sumOfEven))"
   ]
  },
  {
   "cell_type": "markdown",
   "metadata": {},
   "source": [
    "Tranform the below string into a list of words:"
   ]
  },
  {
   "cell_type": "markdown",
   "metadata": {},
   "source": [
    "### Question 6"
   ]
  },
  {
   "cell_type": "markdown",
   "metadata": {},
   "source": [
    "Using iteration write a program that sums all the elements of l_1 and store it in a variable l_total:"
   ]
  },
  {
   "cell_type": "code",
   "execution_count": 26,
   "metadata": {},
   "outputs": [
    {
     "data": {
      "text/plain": [
       "77"
      ]
     },
     "execution_count": 26,
     "metadata": {},
     "output_type": "execute_result"
    }
   ],
   "source": [
    "I_total = 0\n",
    "for item in l_1:\n",
    "    I_total += item\n",
    "    \n",
    "I_total"
   ]
  },
  {
   "cell_type": "markdown",
   "metadata": {},
   "source": [
    "### Question 7"
   ]
  },
  {
   "cell_type": "markdown",
   "metadata": {},
   "source": [
    "Change the type of the below list from integers into boolean:"
   ]
  },
  {
   "cell_type": "code",
   "execution_count": 27,
   "metadata": {},
   "outputs": [
    {
     "data": {
      "text/plain": [
       "[False,\n",
       " False,\n",
       " True,\n",
       " False,\n",
       " True,\n",
       " True,\n",
       " False,\n",
       " False,\n",
       " False,\n",
       " True,\n",
       " False,\n",
       " True,\n",
       " True,\n",
       " False]"
      ]
     },
     "execution_count": 27,
     "metadata": {},
     "output_type": "execute_result"
    }
   ],
   "source": [
    "l_int = [0,0,1,0,1,1,0,0,0,1,0,1,1,0]\n",
    "l_bool = []\n",
    "for elem in l_int:\n",
    "    l_bool.append(bool(elem))\n",
    "l_bool"
   ]
  },
  {
   "cell_type": "markdown",
   "metadata": {},
   "source": [
    "### Question 8\n"
   ]
  },
  {
   "cell_type": "markdown",
   "metadata": {},
   "source": [
    "Create a list l_2 where each element of l_1 is squared:"
   ]
  },
  {
   "cell_type": "code",
   "execution_count": 29,
   "metadata": {},
   "outputs": [
    {
     "name": "stdout",
     "output_type": "stream",
     "text": [
      "Squaring each element of l_1 produces l_2\n",
      "[4, 9, 16, 4, 49, 9, 1, 1, 16, 81, 4, 25, 9, 49, 64, 121, 25]\n"
     ]
    }
   ],
   "source": [
    "l_2 = [x**2 for x in l_1]\n",
    "print(\"Squaring each element of l_1 produces l_2\")\n",
    "print(l_2)"
   ]
  },
  {
   "cell_type": "markdown",
   "metadata": {},
   "source": [
    "### Question 9 "
   ]
  },
  {
   "cell_type": "markdown",
   "metadata": {},
   "source": [
    "Write a code to split s_1 into a list of its constituent words"
   ]
  },
  {
   "cell_type": "code",
   "execution_count": 28,
   "metadata": {},
   "outputs": [
    {
     "data": {
      "text/plain": [
       "['Introduction', 'to', 'Machine', 'Learning']"
      ]
     },
     "execution_count": 28,
     "metadata": {},
     "output_type": "execute_result"
    }
   ],
   "source": [
    "s_1  = \"Introduction to Machine Learning\"\n",
    "\n",
    "l_4 = s_1.split()\n",
    "l_4"
   ]
  },
  {
   "cell_type": "markdown",
   "metadata": {},
   "source": [
    "### Question 10"
   ]
  },
  {
   "cell_type": "markdown",
   "metadata": {},
   "source": [
    "Write a Python program to find the numbers between 200 and 115 (both included) which are divisible by 7. The ouput should be a list."
   ]
  },
  {
   "cell_type": "code",
   "execution_count": 30,
   "metadata": {},
   "outputs": [
    {
     "name": "stdout",
     "output_type": "stream",
     "text": [
      "List of numbers between 115 and 200 that are divisible by seven is\n"
     ]
    },
    {
     "data": {
      "text/plain": [
       "[119, 126, 133, 140, 147, 154, 161, 168, 175, 182, 189, 196]"
      ]
     },
     "execution_count": 30,
     "metadata": {},
     "output_type": "execute_result"
    }
   ],
   "source": [
    "def divBySeven(number):\n",
    "    if number % 7 == 0:\n",
    "        return True\n",
    "    else:\n",
    "        return False\n",
    "\n",
    "print(\"List of numbers between 115 and 200 that are divisible by seven is\")\n",
    "list(filter(divBySeven, [x for x in range(115,201)]))"
   ]
  },
  {
   "cell_type": "code",
   "execution_count": null,
   "metadata": {},
   "outputs": [],
   "source": []
  }
 ],
 "metadata": {
  "kernelspec": {
   "display_name": "Python 3",
   "language": "python",
   "name": "python3"
  },
  "language_info": {
   "codemirror_mode": {
    "name": "ipython",
    "version": 3
   },
   "file_extension": ".py",
   "mimetype": "text/x-python",
   "name": "python",
   "nbconvert_exporter": "python",
   "pygments_lexer": "ipython3",
   "version": "3.7.1"
  }
 },
 "nbformat": 4,
 "nbformat_minor": 4
}
